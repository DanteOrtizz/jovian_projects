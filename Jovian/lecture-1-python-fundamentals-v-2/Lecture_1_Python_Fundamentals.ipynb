{
 "cells": [
  {
   "cell_type": "markdown",
   "id": "fc368f1a",
   "metadata": {},
   "source": [
    "# Intro to programming with Python (Notes)\n",
    "* Python Operators:\n",
    "  * **Arithmetic**: Addition `+`, subtraction `-`, multiplication `*`, division `/`, ground division `//`, remainder `%`, exponent `**`.\n",
    "\n",
    "  * **Logic**: `and`, `or`, `not`.\n",
    " * **Conditional**: Equal `==`, greater than `>`, less than `<`, not equal `!=`, greater than or equal `>=`, less than or equal `<=`."
   ]
  },
  {
   "cell_type": "markdown",
   "id": "05988d44",
   "metadata": {},
   "source": [
    "###Indented texts are from: \"https://jovian.ai/learn/data-analysis-with-python-zero-to-pandas/lesson/lesson-1-introduction-to-programming-with-python\".\n",
    "\n",
    ">Run the code cells below to perform calculations and view their result. Try changing the numbers and run the modified cells again to see updated results. Can you guess what the //, %, and ** operators are used for?\n",
    "\n"
   ]
  },
  {
   "cell_type": "code",
   "execution_count": 1,
   "id": "ec6bfae6",
   "metadata": {},
   "outputs": [
    {
     "data": {
      "text/plain": [
       "14"
      ]
     },
     "execution_count": 1,
     "metadata": {},
     "output_type": "execute_result"
    }
   ],
   "source": [
    "2 + 3 + 9"
   ]
  },
  {
   "cell_type": "code",
   "execution_count": 2,
   "id": "01ece2b3",
   "metadata": {},
   "outputs": [
    {
     "data": {
      "text/plain": [
       "26"
      ]
     },
     "execution_count": 2,
     "metadata": {},
     "output_type": "execute_result"
    }
   ],
   "source": [
    "99 - 73"
   ]
  },
  {
   "cell_type": "code",
   "execution_count": 3,
   "id": "6565c69d",
   "metadata": {},
   "outputs": [
    {
     "data": {
      "text/plain": [
       "-33709.28"
      ]
     },
     "execution_count": 3,
     "metadata": {},
     "output_type": "execute_result"
    }
   ],
   "source": [
    "23.54 * -1432"
   ]
  },
  {
   "cell_type": "code",
   "execution_count": 4,
   "id": "9fa8c8b0",
   "metadata": {},
   "outputs": [
    {
     "data": {
      "text/plain": [
       "14.285714285714286"
      ]
     },
     "execution_count": 4,
     "metadata": {},
     "output_type": "execute_result"
    }
   ],
   "source": [
    "100 / 7"
   ]
  },
  {
   "cell_type": "code",
   "execution_count": 5,
   "id": "7632c04d",
   "metadata": {},
   "outputs": [
    {
     "data": {
      "text/plain": [
       "14"
      ]
     },
     "execution_count": 5,
     "metadata": {},
     "output_type": "execute_result"
    }
   ],
   "source": [
    "100 // 7"
   ]
  },
  {
   "cell_type": "code",
   "execution_count": 6,
   "id": "ce81b325",
   "metadata": {},
   "outputs": [
    {
     "data": {
      "text/plain": [
       "2"
      ]
     },
     "execution_count": 6,
     "metadata": {},
     "output_type": "execute_result"
    }
   ],
   "source": [
    "100 % 7"
   ]
  },
  {
   "cell_type": "code",
   "execution_count": 7,
   "id": "482af7a2",
   "metadata": {},
   "outputs": [
    {
     "data": {
      "text/plain": [
       "125"
      ]
     },
     "execution_count": 7,
     "metadata": {},
     "output_type": "execute_result"
    }
   ],
   "source": [
    "5 ** 3"
   ]
  },
  {
   "cell_type": "markdown",
   "id": "a78e8030",
   "metadata": {},
   "source": [
    ">As you might expect, operators like `/` and `*` take precedence over other operators like `+` and `-` as per mathematical conventions. You can use parentheses, i.e. `(` and `)`, to specify the order in which operations are performed."
   ]
  },
  {
   "cell_type": "code",
   "execution_count": 8,
   "id": "71e7f1f8",
   "metadata": {},
   "outputs": [
    {
     "data": {
      "text/plain": [
       "1.53125"
      ]
     },
     "execution_count": 8,
     "metadata": {},
     "output_type": "execute_result"
    }
   ],
   "source": [
    "((2 + 5) * (17 - 3)) / (4 ** 3)"
   ]
  },
  {
   "cell_type": "markdown",
   "id": "d67aabde",
   "metadata": {},
   "source": [
    ">Python supports the following arithmetic operators:\n",
    "\n",
    "\n",
    "\n",
    "\n",
    "| Operator   | Purpose           | Example     | Result    |\n",
    "|------------|-------------------|-------------|-----------|\n",
    "| `+`        | Addition          | `2 + 3`     | `5`       |\n",
    "| `-`        | Subtraction       | `3 - 2`     | `1`       |\n",
    "| `*`        | Multiplication    | `8 * 12`    | `96`      |\n",
    "| `/`        | Division          | `100 / 7`   | `14.28..` |\n",
    "| `//`       | Floor Division    | `100 // 7`  | `14`      |    \n",
    "| `%`        | Modulus/Remainder | `100 % 7`   | `2`       |\n",
    "| `**`       | Exponent          | `5 ** 3`    | `125`     |\n",
    "\n",
    "\n",
    ">Try solving some simple problems from this page:\n",
    "https://www.math-only-math.com/worksheet-on-word-problems-on-four-operations.html . \n"
   ]
  },
  {
   "cell_type": "code",
   "execution_count": 9,
   "id": "ae136655",
   "metadata": {},
   "outputs": [
    {
     "data": {
      "text/plain": [
       "117578"
      ]
     },
     "execution_count": 9,
     "metadata": {},
     "output_type": "execute_result"
    }
   ],
   "source": [
    "#1. The population of a town is 198568. Out of them 45312 are men and 35678 are women. Find the number of children in the town.\n",
    "town = 198568\n",
    "men = 45312\n",
    "women = 35678\n",
    "children = town - (men + women)\n",
    "children"
   ]
  },
  {
   "cell_type": "code",
   "execution_count": 10,
   "id": "bed050d8",
   "metadata": {},
   "outputs": [
    {
     "data": {
      "text/plain": [
       "58200"
      ]
     },
     "execution_count": 10,
     "metadata": {},
     "output_type": "execute_result"
    }
   ],
   "source": [
    "#2. A shopkeeper has 2425 boxes of 24 pencils each. How many pencils do all the boxes have in all?\n",
    "boxes = 2425\n",
    "pencils = 24\n",
    "total = 2425 * 24\n",
    "total"
   ]
  },
  {
   "cell_type": "code",
   "execution_count": 11,
   "id": "8ce86aec",
   "metadata": {},
   "outputs": [
    {
     "data": {
      "text/plain": [
       "585"
      ]
     },
     "execution_count": 11,
     "metadata": {},
     "output_type": "execute_result"
    }
   ],
   "source": [
    "#3. Linda bought a coat for $2265 and a saree for $2150. She gave $5000 to the shopkeeper. How much money did the shopkeeper return to her?\n",
    "coat = 2265\n",
    "saree = 2150\n",
    "gave = 5000\n",
    "returns = gave - (coat + saree)\n",
    "returns"
   ]
  },
  {
   "cell_type": "code",
   "execution_count": 12,
   "id": "52437ef6",
   "metadata": {},
   "outputs": [
    {
     "data": {
      "text/plain": [
       "4564.0"
      ]
     },
     "execution_count": 12,
     "metadata": {},
     "output_type": "execute_result"
    }
   ],
   "source": [
    "#4. The cost of 21 TV sets is $95844. Find the cost of one TV set.\n",
    "total = 95844\n",
    "sets = 21\n",
    "oneTV = total / 21\n",
    "oneTV"
   ]
  },
  {
   "cell_type": "code",
   "execution_count": 13,
   "id": "40aa4484",
   "metadata": {},
   "outputs": [
    {
     "name": "stdout",
     "output_type": "stream",
     "text": [
      "294384 bulbs a year.\n"
     ]
    }
   ],
   "source": [
    "#5. A factory produces 24532 bulbs in a month. What is its annual production?\n",
    "month_production = 24532\n",
    "months_in_a_year = 12\n",
    "total_production = month_production * months_in_a_year\n",
    "print(total_production,\"bulbs a year.\")"
   ]
  },
  {
   "cell_type": "code",
   "execution_count": 15,
   "id": "dc6ed657",
   "metadata": {},
   "outputs": [
    {
     "data": {
      "text/plain": [
       "67545"
      ]
     },
     "execution_count": 15,
     "metadata": {},
     "output_type": "execute_result"
    }
   ],
   "source": [
    "\"\"\"6. There are 145968 bags of sugar, 236487 bags of wheat and some bags of rice in a godown. It the total number of bags in \n",
    "the godown is 450000, find the number of bags of rice.\"\"\"\n",
    "sugar_bags = 145968\n",
    "wheat_bags = 236487\n",
    "total_godown = 450000\n",
    "\n",
    "rice_bags = total_godown - (sugar_bags + wheat_bags)\n",
    "rice_bags\n"
   ]
  },
  {
   "cell_type": "code",
   "execution_count": 16,
   "id": "6c25af2f",
   "metadata": {},
   "outputs": [
    {
     "data": {
      "text/plain": [
       "199188"
      ]
     },
     "execution_count": 16,
     "metadata": {},
     "output_type": "execute_result"
    }
   ],
   "source": [
    "\"\"\"7. A factory manufactured 483685 toys in three weeks. \n",
    "The production in first week was 146345 toys and in second week 138152 toys. Find the production in the third week.\"\"\"\n",
    "total = 483685\n",
    "first_week = 146345\n",
    "second_week = 138152\n",
    "third_week = total - (146345 + 138152)\n",
    "third_week"
   ]
  },
  {
   "cell_type": "code",
   "execution_count": 17,
   "id": "aa70576c",
   "metadata": {},
   "outputs": [
    {
     "data": {
      "text/plain": [
       "1162128"
      ]
     },
     "execution_count": 17,
     "metadata": {},
     "output_type": "execute_result"
    }
   ],
   "source": [
    "#8. The cost of a sofa set is $9372. How much will 124 such sofa sets cost?\n",
    "one_set = 9372\n",
    "total_sets = 124\n",
    "total_cost = one_set * total_sets\n",
    "total_cost"
   ]
  },
  {
   "cell_type": "code",
   "execution_count": 19,
   "id": "d6dbbb2a",
   "metadata": {},
   "outputs": [
    {
     "data": {
      "text/plain": [
       "50"
      ]
     },
     "execution_count": 19,
     "metadata": {},
     "output_type": "execute_result"
    }
   ],
   "source": [
    "#9. There are 86 rooms in a school. 4356 students study there. Equal number of students sits in each room?\n",
    "number_of_rooms = 86\n",
    "students = 4356\n",
    "students_per_room = students // number_of_rooms\n",
    "students_per_room"
   ]
  },
  {
   "cell_type": "code",
   "execution_count": 20,
   "id": "2b651bfc",
   "metadata": {},
   "outputs": [
    {
     "data": {
      "text/plain": [
       "21"
      ]
     },
     "execution_count": 20,
     "metadata": {},
     "output_type": "execute_result"
    }
   ],
   "source": [
    "\"\"\"10. 1575 students of a school want to go Agra by bus. \n",
    "If one bus can carry 75 students, how many buses are required to carry all the students?\"\"\"\n",
    "school_students = 1575\n",
    "bus_can_carry = 75\n",
    "number_of_bus_needed = school_students // bus_can_carry\n",
    "number_of_bus_needed"
   ]
  },
  {
   "cell_type": "code",
   "execution_count": 21,
   "id": "ef480501",
   "metadata": {},
   "outputs": [
    {
     "data": {
      "text/plain": [
       "51625"
      ]
     },
     "execution_count": 21,
     "metadata": {},
     "output_type": "execute_result"
    }
   ],
   "source": [
    "#11. The cost of a radio set is 1475. What is the cost of 35 such radio sets?\n",
    "one_radio_set = 1475\n",
    "needed = 35\n",
    "total_price = one_radio_set * needed\n",
    "total_price"
   ]
  },
  {
   "cell_type": "code",
   "execution_count": 22,
   "id": "3001c094",
   "metadata": {},
   "outputs": [
    {
     "data": {
      "text/plain": [
       "134249"
      ]
     },
     "execution_count": 22,
     "metadata": {},
     "output_type": "execute_result"
    }
   ],
   "source": [
    "\"\"\"12. In an election, 52496 people voted for Ron, 44929 people for Jhon and 36824 people for Mike in a town. \n",
    "If everyone voted in the town, what is the total number of voters?\"\"\"\n",
    "ron = 52496\n",
    "jhon = 44929\n",
    "mike = 36824\n",
    "total_voters = ron + jhon + mike\n",
    "total_voters"
   ]
  },
  {
   "cell_type": "code",
   "execution_count": 28,
   "id": "1c7dd00e",
   "metadata": {},
   "outputs": [
    {
     "data": {
      "text/plain": [
       "(135, 13975)"
      ]
     },
     "execution_count": 28,
     "metadata": {},
     "output_type": "execute_result"
    }
   ],
   "source": [
    "\"\"\"13. Maria bought 96 toys priced equally for $12960. The amount of $1015 is still left with her.\n",
    "Find the cost of each toy and the amount she had.\"\"\"\n",
    "number_of_toys = 96\n",
    "priced = 12960\n",
    "amount_left = 1015\n",
    "each_priced = priced // number_of_toys\n",
    "total_she_had = priced + amount_left\n",
    "each_priced, total_she_had"
   ]
  },
  {
   "cell_type": "markdown",
   "id": "c16ba685",
   "metadata": {},
   "source": [
    "## Solving multi-step problems using variables\n",
    "\n",
    "Let's try solving the following word problem using Python: \n",
    "\n",
    "> A grocery store sells a bag of ice for $1.25 and makes a 20% profit. If it sells 500 bags of ice, how much total profit does it make?\n",
    "\n",
    "We can list out the information provided and gradually convert the word problem into a mathematical expression that can be evaluated using Python. \n",
    "\n",
    "*Cost of ice bag ($)* = 1.25\n",
    "\n",
    "*Profit margin* = 20% = .2\n",
    "\n",
    "*Profit per bag ($)* = profit margin * cost of ice bag = .2 * 1.25\n",
    "\n",
    "*No. of bags* = 500\n",
    "\n",
    "*Total profit* = no. of bags * profit per bag = 500 * (.2 * 1.25)"
   ]
  },
  {
   "cell_type": "code",
   "execution_count": 29,
   "id": "f40720fe",
   "metadata": {},
   "outputs": [
    {
     "name": "stdout",
     "output_type": "stream",
     "text": [
      "The grocery store makes a total profit of $ 125.0\n"
     ]
    }
   ],
   "source": [
    "# Store input data in variables\n",
    "cost_of_ice_bag = 1.25\n",
    "profit_margin = .2\n",
    "number_of_bags = 500\n",
    "\n",
    "# Perform the required calculations\n",
    "profit_per_bag = cost_of_ice_bag * profit_margin\n",
    "total_profit = number_of_bags * profit_per_bag\n",
    "\n",
    "# Display the result\n",
    "print(\"The grocery store makes a total profit of $\", total_profit)"
   ]
  },
  {
   "cell_type": "markdown",
   "id": "15432db1",
   "metadata": {},
   "source": [
    "> **EXERCISE**: A travel company wants to fly a plane to the Bahamas. Flying the plane costs 5000 dollars. So far, 29 people have signed up for the trip. If the company charges 200 dollars per ticket, what is the profit made by the company? Create variables for each numeric quantity and use appropriate arithmetic operations.\n",
    "\n",
    "*Plane costs* = $5000\n",
    "\n",
    "*Signed up people* = 29\n",
    "\n",
    "*Ticket* = $200 each"
   ]
  },
  {
   "cell_type": "code",
   "execution_count": 30,
   "id": "4e6e63b1",
   "metadata": {},
   "outputs": [
    {
     "data": {
      "text/plain": [
       "800"
      ]
     },
     "execution_count": 30,
     "metadata": {},
     "output_type": "execute_result"
    }
   ],
   "source": [
    "#defining the costs\n",
    "ticket = 200\n",
    "people = 29\n",
    "plane_cost = 5000\n",
    "\n",
    "#Total tickets recieved\n",
    "money_recieved_from_tickets = ticket * people\n",
    "\n",
    "#Ticket - plane cost = profit!\n",
    "profit = money_recieved_from_tickets - plane_cost\n",
    "profit"
   ]
  },
  {
   "cell_type": "markdown",
   "id": "40db584f",
   "metadata": {},
   "source": [
    "## Evaluating conditions using Python\n",
    "\n",
    "Apart from arithmetic operations, Python also provides several operations for comparing numbers & variables.\n",
    "\n",
    "| Operator    | Description                                                     |\n",
    "|-------------|-----------------------------------------------------------------|\n",
    "| `==`        | Check if operands are equal                                     |\n",
    "| `!=`        | Check if operands are not equal                                 |\n",
    "| `>`         | Check if left operand is greater than right operand             |\n",
    "| `<`         | Check if left operand is less than right operand                |\n",
    "| `>=`        | Check if left operand is greater than or equal to right operand |\n",
    "| `<=`        | Check if left operand is less than or equal to right operand    |\n",
    "\n",
    "The result of a comparison operation is either `True` or `False` (note the uppercase `T` and `F`). These are special keywords in Python. Let's try out some experiments with comparison operators."
   ]
  },
  {
   "cell_type": "markdown",
   "id": "de3e302f",
   "metadata": {},
   "source": [
    "## Combining conditions with logical operators\n",
    "\n",
    ">The logical operators `and`, `or` and `not` operate upon conditions and `True` & `False` values (also known as *booleans*). `and` and `or` operate on two conditions, whereas `not` operates on a single condition.\n",
    "\n",
    ">The `and` operator returns `True` when both the conditions evaluate to `True`. Otherwise, it returns `False`.\n",
    "\n",
    "| `a`     | `b`    | `a and b` |\n",
    "|---------|--------|-----------|\n",
    "|  `True` | `True` | `True`    |\n",
    "|  `True` | `False`| `False`   |\n",
    "|  `False`| `True` | `False`   |\n",
    "|  `False`| `False`| `False`   |"
   ]
  },
  {
   "cell_type": "markdown",
   "id": "b341f619",
   "metadata": {},
   "source": [
    ">The `or` operator returns `True` if at least one of the conditions evaluates to `True`. It returns `False` only if both conditions are `False`.\n",
    "\n",
    "| `a`     | `b`    | `a or b`  |\n",
    "|---------|--------|-----------|\n",
    "|  `True` | `True` | `True`    |\n",
    "|  `True` | `False`| `True`    |\n",
    "|  `False`| `True` | `True`    |\n",
    "|  `False`| `False`| `False`   |\n"
   ]
  },
  {
   "cell_type": "code",
   "execution_count": 32,
   "id": "ace5708d",
   "metadata": {},
   "outputs": [],
   "source": [
    "#Uploading the notebook :)\n",
    "!pip install jovian --upgrade --quiet"
   ]
  },
  {
   "cell_type": "code",
   "execution_count": 33,
   "id": "eeb52fc5",
   "metadata": {},
   "outputs": [
    {
     "data": {
      "application/javascript": [
       "if (window.IPython && IPython.notebook.kernel) IPython.notebook.kernel.execute('jovian.utils.jupyter.get_notebook_name_saved = lambda: \"' + IPython.notebook.notebook_name + '\"')"
      ],
      "text/plain": [
       "<IPython.core.display.Javascript object>"
      ]
     },
     "metadata": {},
     "output_type": "display_data"
    }
   ],
   "source": [
    "import jovian"
   ]
  },
  {
   "cell_type": "code",
   "execution_count": null,
   "id": "3fa9e328",
   "metadata": {},
   "outputs": [
    {
     "data": {
      "application/javascript": [
       "window.require && require([\"base/js/namespace\"],function(Jupyter){Jupyter.notebook.save_checkpoint()})"
      ],
      "text/plain": [
       "<IPython.core.display.Javascript object>"
      ]
     },
     "metadata": {},
     "output_type": "display_data"
    },
    {
     "name": "stdout",
     "output_type": "stream",
     "text": [
      "[jovian] Please enter your API key ( from https://jovian.ai/ ):\u001b[0m\n",
      "API KEY:"
     ]
    }
   ],
   "source": [
    "jovian.commit(project='lecture-1-python-fundamentals')"
   ]
  }
 ],
 "metadata": {
  "language_info": {
   "codemirror_mode": {
    "name": "ipython",
    "version": 3
   },
   "file_extension": ".py",
   "mimetype": "text/x-python",
   "name": "python",
   "nbconvert_exporter": "python",
   "pygments_lexer": "ipython3",
   "version": "3.10.0"
  }
 },
 "nbformat": 4,
 "nbformat_minor": 5
}