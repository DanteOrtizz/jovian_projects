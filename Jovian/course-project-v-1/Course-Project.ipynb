{
 "cells": [
  {
   "cell_type": "markdown",
   "id": "516bce5d",
   "metadata": {},
   "source": [
    "# Pokemon Data Analysis \n",
    "\n",
    "\n",
    "In this nootebook I'm going to analyse pokemons stats from the games, such as, their HP, Attack and Deffense mainly.\n",
    "Creating sub arrays for legendaries and non legendaries, and later on, ploting and comparing between the two.\n",
    "Here's where the dataset is from: [https://www.kaggle.com/abcsds/pokemon]."
   ]
  },
  {
   "cell_type": "markdown",
   "id": "0527dec3",
   "metadata": {},
   "source": [
    "## Downloading the Dataset\n",
    "\n",
    "#### Dataset details: In the dataset there's a total of 721 different pokemons (800 rows in total), with 13 columns, wich are:\n",
    "* #: ID for each pokemon;\n",
    "* Name: Name of each pokemon;\n",
    "* Type 1: Each pokemon has a type, this determines weakness/resistance to attacks;\n",
    "* Type 2: Some pokemon are dual type and have 2;\n",
    "* Total: sum of all stats that come after this, a general guide to how strong a pokemon is (I will be changing the placement for better understanding);\n",
    "* HP: hit points, or health, defines how much damage a pokemon can withstand before fainting;\n",
    "* Attack: the base modifier for normal attacks (eg. Scratch, Punch);\n",
    "* Defense: the base damage resistance against normal attacks;\n",
    "* SP Atk: special attack, the base modifier for special attacks (e.g. fire blast, bubble beam);\n",
    "* SP Def: the base damage resistance against special attacks;\n",
    "* Speed: determines which pokemon attacks first each round."
   ]
  },
  {
   "cell_type": "code",
   "execution_count": 1,
   "id": "5580e23e",
   "metadata": {},
   "outputs": [],
   "source": [
    "#Importing some libs\n",
    "import os\n",
    "import pandas as pd\n",
    "import numpy as np"
   ]
  },
  {
   "cell_type": "code",
   "execution_count": 2,
   "id": "93bda18a",
   "metadata": {},
   "outputs": [],
   "source": [
    "#!pip install jovian opendatasets --upgrade --quiet"
   ]
  },
  {
   "cell_type": "code",
   "execution_count": 3,
   "id": "4141f68b",
   "metadata": {},
   "outputs": [],
   "source": [
    "dataset_url = 'https://www.kaggle.com/abcsds/pokemon?select=Pokemon.csv' "
   ]
  },
  {
   "cell_type": "code",
   "execution_count": 4,
   "id": "5792260d",
   "metadata": {},
   "outputs": [],
   "source": [
    "import opendatasets as od\n",
    "od.download(dataset_url)"
   ]
  },
  {
   "cell_type": "code",
   "execution_count": 5,
   "id": "f6c963d1",
   "metadata": {},
   "outputs": [],
   "source": [
    "data_dir = './pokemon'"
   ]
  },
  {
   "cell_type": "code",
   "execution_count": 6,
   "id": "eaa55f40",
   "metadata": {},
   "outputs": [
    {
     "data": {
      "text/plain": [
       "['Pokemon.csv']"
      ]
     },
     "execution_count": 6,
     "metadata": {},
     "output_type": "execute_result"
    }
   ],
   "source": [
    "os.listdir(data_dir)"
   ]
  },
  {
   "cell_type": "markdown",
   "id": "c913f758",
   "metadata": {},
   "source": [
    "## Data Preparation and Cleaning\n",
    "\n",
    "In this section, after loading the csv file, I will be changing the 'Total' column position from the begginig of the table to after the 'Speed' column since the 'Total' is the sum of hp, attack, defense, attack speed, defense speed and speed.\n",
    "\n",
    "I will not be droping any rows since there is no missing values!"
   ]
  },
  {
   "cell_type": "code",
   "execution_count": 7,
   "id": "bc0dac48",
   "metadata": {},
   "outputs": [
    {
     "data": {
      "text/html": [
       "<div>\n",
       "<style scoped>\n",
       "    .dataframe tbody tr th:only-of-type {\n",
       "        vertical-align: middle;\n",
       "    }\n",
       "\n",
       "    .dataframe tbody tr th {\n",
       "        vertical-align: top;\n",
       "    }\n",
       "\n",
       "    .dataframe thead th {\n",
       "        text-align: right;\n",
       "    }\n",
       "</style>\n",
       "<table border=\"1\" class=\"dataframe\">\n",
       "  <thead>\n",
       "    <tr style=\"text-align: right;\">\n",
       "      <th></th>\n",
       "      <th>#</th>\n",
       "      <th>Name</th>\n",
       "      <th>Type 1</th>\n",
       "      <th>Type 2</th>\n",
       "      <th>Total</th>\n",
       "      <th>HP</th>\n",
       "      <th>Attack</th>\n",
       "      <th>Defense</th>\n",
       "      <th>Sp. Atk</th>\n",
       "      <th>Sp. Def</th>\n",
       "      <th>Speed</th>\n",
       "      <th>Generation</th>\n",
       "      <th>Legendary</th>\n",
       "    </tr>\n",
       "  </thead>\n",
       "  <tbody>\n",
       "    <tr>\n",
       "      <th>0</th>\n",
       "      <td>1</td>\n",
       "      <td>Bulbasaur</td>\n",
       "      <td>Grass</td>\n",
       "      <td>Poison</td>\n",
       "      <td>318</td>\n",
       "      <td>45</td>\n",
       "      <td>49</td>\n",
       "      <td>49</td>\n",
       "      <td>65</td>\n",
       "      <td>65</td>\n",
       "      <td>45</td>\n",
       "      <td>1</td>\n",
       "      <td>False</td>\n",
       "    </tr>\n",
       "    <tr>\n",
       "      <th>1</th>\n",
       "      <td>2</td>\n",
       "      <td>Ivysaur</td>\n",
       "      <td>Grass</td>\n",
       "      <td>Poison</td>\n",
       "      <td>405</td>\n",
       "      <td>60</td>\n",
       "      <td>62</td>\n",
       "      <td>63</td>\n",
       "      <td>80</td>\n",
       "      <td>80</td>\n",
       "      <td>60</td>\n",
       "      <td>1</td>\n",
       "      <td>False</td>\n",
       "    </tr>\n",
       "    <tr>\n",
       "      <th>2</th>\n",
       "      <td>3</td>\n",
       "      <td>Venusaur</td>\n",
       "      <td>Grass</td>\n",
       "      <td>Poison</td>\n",
       "      <td>525</td>\n",
       "      <td>80</td>\n",
       "      <td>82</td>\n",
       "      <td>83</td>\n",
       "      <td>100</td>\n",
       "      <td>100</td>\n",
       "      <td>80</td>\n",
       "      <td>1</td>\n",
       "      <td>False</td>\n",
       "    </tr>\n",
       "    <tr>\n",
       "      <th>3</th>\n",
       "      <td>3</td>\n",
       "      <td>VenusaurMega Venusaur</td>\n",
       "      <td>Grass</td>\n",
       "      <td>Poison</td>\n",
       "      <td>625</td>\n",
       "      <td>80</td>\n",
       "      <td>100</td>\n",
       "      <td>123</td>\n",
       "      <td>122</td>\n",
       "      <td>120</td>\n",
       "      <td>80</td>\n",
       "      <td>1</td>\n",
       "      <td>False</td>\n",
       "    </tr>\n",
       "    <tr>\n",
       "      <th>4</th>\n",
       "      <td>4</td>\n",
       "      <td>Charmander</td>\n",
       "      <td>Fire</td>\n",
       "      <td>NaN</td>\n",
       "      <td>309</td>\n",
       "      <td>39</td>\n",
       "      <td>52</td>\n",
       "      <td>43</td>\n",
       "      <td>60</td>\n",
       "      <td>50</td>\n",
       "      <td>65</td>\n",
       "      <td>1</td>\n",
       "      <td>False</td>\n",
       "    </tr>\n",
       "  </tbody>\n",
       "</table>\n",
       "</div>"
      ],
      "text/plain": [
       "   #                   Name Type 1  Type 2  Total  HP  Attack  Defense  \\\n",
       "0  1              Bulbasaur  Grass  Poison    318  45      49       49   \n",
       "1  2                Ivysaur  Grass  Poison    405  60      62       63   \n",
       "2  3               Venusaur  Grass  Poison    525  80      82       83   \n",
       "3  3  VenusaurMega Venusaur  Grass  Poison    625  80     100      123   \n",
       "4  4             Charmander   Fire     NaN    309  39      52       43   \n",
       "\n",
       "   Sp. Atk  Sp. Def  Speed  Generation  Legendary  \n",
       "0       65       65     45           1      False  \n",
       "1       80       80     60           1      False  \n",
       "2      100      100     80           1      False  \n",
       "3      122      120     80           1      False  \n",
       "4       60       50     65           1      False  "
      ]
     },
     "execution_count": 7,
     "metadata": {},
     "output_type": "execute_result"
    }
   ],
   "source": [
    "poke_df = pd.read_csv('./pokemon/Pokemon.csv')\n",
    "poke_df.head(5)"
   ]
  },
  {
   "cell_type": "code",
   "execution_count": 8,
   "id": "edbe8a11",
   "metadata": {},
   "outputs": [
    {
     "data": {
      "text/plain": [
       "['#',\n",
       " 'Name',\n",
       " 'Type 1',\n",
       " 'Type 2',\n",
       " 'Total',\n",
       " 'HP',\n",
       " 'Attack',\n",
       " 'Defense',\n",
       " 'Sp. Atk',\n",
       " 'Sp. Def',\n",
       " 'Speed',\n",
       " 'Generation',\n",
       " 'Legendary']"
      ]
     },
     "execution_count": 8,
     "metadata": {},
     "output_type": "execute_result"
    }
   ],
   "source": [
    "cols = list(poke_df.columns.values)\n",
    "cols"
   ]
  },
  {
   "cell_type": "code",
   "execution_count": 9,
   "id": "827bff7b",
   "metadata": {},
   "outputs": [
    {
     "data": {
      "text/html": [
       "<div>\n",
       "<style scoped>\n",
       "    .dataframe tbody tr th:only-of-type {\n",
       "        vertical-align: middle;\n",
       "    }\n",
       "\n",
       "    .dataframe tbody tr th {\n",
       "        vertical-align: top;\n",
       "    }\n",
       "\n",
       "    .dataframe thead th {\n",
       "        text-align: right;\n",
       "    }\n",
       "</style>\n",
       "<table border=\"1\" class=\"dataframe\">\n",
       "  <thead>\n",
       "    <tr style=\"text-align: right;\">\n",
       "      <th></th>\n",
       "      <th>#</th>\n",
       "      <th>Name</th>\n",
       "      <th>Type 1</th>\n",
       "      <th>Type 2</th>\n",
       "      <th>HP</th>\n",
       "      <th>Attack</th>\n",
       "      <th>Defense</th>\n",
       "      <th>Sp. Atk</th>\n",
       "      <th>Sp. Def</th>\n",
       "      <th>Speed</th>\n",
       "      <th>Total</th>\n",
       "      <th>Generation</th>\n",
       "      <th>Legendary</th>\n",
       "    </tr>\n",
       "  </thead>\n",
       "  <tbody>\n",
       "    <tr>\n",
       "      <th>0</th>\n",
       "      <td>1</td>\n",
       "      <td>Bulbasaur</td>\n",
       "      <td>Grass</td>\n",
       "      <td>Poison</td>\n",
       "      <td>45</td>\n",
       "      <td>49</td>\n",
       "      <td>49</td>\n",
       "      <td>65</td>\n",
       "      <td>65</td>\n",
       "      <td>45</td>\n",
       "      <td>318</td>\n",
       "      <td>1</td>\n",
       "      <td>False</td>\n",
       "    </tr>\n",
       "    <tr>\n",
       "      <th>1</th>\n",
       "      <td>2</td>\n",
       "      <td>Ivysaur</td>\n",
       "      <td>Grass</td>\n",
       "      <td>Poison</td>\n",
       "      <td>60</td>\n",
       "      <td>62</td>\n",
       "      <td>63</td>\n",
       "      <td>80</td>\n",
       "      <td>80</td>\n",
       "      <td>60</td>\n",
       "      <td>405</td>\n",
       "      <td>1</td>\n",
       "      <td>False</td>\n",
       "    </tr>\n",
       "    <tr>\n",
       "      <th>2</th>\n",
       "      <td>3</td>\n",
       "      <td>Venusaur</td>\n",
       "      <td>Grass</td>\n",
       "      <td>Poison</td>\n",
       "      <td>80</td>\n",
       "      <td>82</td>\n",
       "      <td>83</td>\n",
       "      <td>100</td>\n",
       "      <td>100</td>\n",
       "      <td>80</td>\n",
       "      <td>525</td>\n",
       "      <td>1</td>\n",
       "      <td>False</td>\n",
       "    </tr>\n",
       "    <tr>\n",
       "      <th>3</th>\n",
       "      <td>3</td>\n",
       "      <td>VenusaurMega Venusaur</td>\n",
       "      <td>Grass</td>\n",
       "      <td>Poison</td>\n",
       "      <td>80</td>\n",
       "      <td>100</td>\n",
       "      <td>123</td>\n",
       "      <td>122</td>\n",
       "      <td>120</td>\n",
       "      <td>80</td>\n",
       "      <td>625</td>\n",
       "      <td>1</td>\n",
       "      <td>False</td>\n",
       "    </tr>\n",
       "    <tr>\n",
       "      <th>4</th>\n",
       "      <td>4</td>\n",
       "      <td>Charmander</td>\n",
       "      <td>Fire</td>\n",
       "      <td>NaN</td>\n",
       "      <td>39</td>\n",
       "      <td>52</td>\n",
       "      <td>43</td>\n",
       "      <td>60</td>\n",
       "      <td>50</td>\n",
       "      <td>65</td>\n",
       "      <td>309</td>\n",
       "      <td>1</td>\n",
       "      <td>False</td>\n",
       "    </tr>\n",
       "  </tbody>\n",
       "</table>\n",
       "</div>"
      ],
      "text/plain": [
       "   #                   Name Type 1  Type 2  HP  Attack  Defense  Sp. Atk  \\\n",
       "0  1              Bulbasaur  Grass  Poison  45      49       49       65   \n",
       "1  2                Ivysaur  Grass  Poison  60      62       63       80   \n",
       "2  3               Venusaur  Grass  Poison  80      82       83      100   \n",
       "3  3  VenusaurMega Venusaur  Grass  Poison  80     100      123      122   \n",
       "4  4             Charmander   Fire     NaN  39      52       43       60   \n",
       "\n",
       "   Sp. Def  Speed  Total  Generation  Legendary  \n",
       "0       65     45    318           1      False  \n",
       "1       80     60    405           1      False  \n",
       "2      100     80    525           1      False  \n",
       "3      120     80    625           1      False  \n",
       "4       50     65    309           1      False  "
      ]
     },
     "execution_count": 9,
     "metadata": {},
     "output_type": "execute_result"
    }
   ],
   "source": [
    "#Changing the 'Total' position\n",
    "poke_df = poke_df[['#', 'Name', 'Type 1','Type 2', 'HP', 'Attack', 'Defense', 'Sp. Atk', 'Sp. Def', 'Speed', 'Total', 'Generation', 'Legendary']]\n",
    "poke_df.head(5)"
   ]
  },
  {
   "cell_type": "code",
   "execution_count": 10,
   "id": "37f698d1",
   "metadata": {},
   "outputs": [
    {
     "data": {
      "text/plain": [
       "#               0\n",
       "Name            0\n",
       "Type 1          0\n",
       "Type 2        386\n",
       "HP              0\n",
       "Attack          0\n",
       "Defense         0\n",
       "Sp. Atk         0\n",
       "Sp. Def         0\n",
       "Speed           0\n",
       "Total           0\n",
       "Generation      0\n",
       "Legendary       0\n",
       "dtype: int64"
      ]
     },
     "execution_count": 10,
     "metadata": {},
     "output_type": "execute_result"
    }
   ],
   "source": [
    "#Looking up missing values\n",
    "poke_df.isna().sum()   #Not all pokemons have a second type"
   ]
  },
  {
   "cell_type": "code",
   "execution_count": 11,
   "id": "26fb215a",
   "metadata": {},
   "outputs": [
    {
     "data": {
      "text/html": [
       "<div>\n",
       "<style scoped>\n",
       "    .dataframe tbody tr th:only-of-type {\n",
       "        vertical-align: middle;\n",
       "    }\n",
       "\n",
       "    .dataframe tbody tr th {\n",
       "        vertical-align: top;\n",
       "    }\n",
       "\n",
       "    .dataframe thead th {\n",
       "        text-align: right;\n",
       "    }\n",
       "</style>\n",
       "<table border=\"1\" class=\"dataframe\">\n",
       "  <thead>\n",
       "    <tr style=\"text-align: right;\">\n",
       "      <th></th>\n",
       "      <th>#</th>\n",
       "      <th>HP</th>\n",
       "      <th>Attack</th>\n",
       "      <th>Defense</th>\n",
       "      <th>Sp. Atk</th>\n",
       "      <th>Sp. Def</th>\n",
       "      <th>Speed</th>\n",
       "      <th>Total</th>\n",
       "      <th>Generation</th>\n",
       "    </tr>\n",
       "  </thead>\n",
       "  <tbody>\n",
       "    <tr>\n",
       "      <th>count</th>\n",
       "      <td>800.000000</td>\n",
       "      <td>800.000000</td>\n",
       "      <td>800.000000</td>\n",
       "      <td>800.000000</td>\n",
       "      <td>800.000000</td>\n",
       "      <td>800.000000</td>\n",
       "      <td>800.000000</td>\n",
       "      <td>800.00000</td>\n",
       "      <td>800.00000</td>\n",
       "    </tr>\n",
       "    <tr>\n",
       "      <th>mean</th>\n",
       "      <td>362.813750</td>\n",
       "      <td>69.258750</td>\n",
       "      <td>79.001250</td>\n",
       "      <td>73.842500</td>\n",
       "      <td>72.820000</td>\n",
       "      <td>71.902500</td>\n",
       "      <td>68.277500</td>\n",
       "      <td>435.10250</td>\n",
       "      <td>3.32375</td>\n",
       "    </tr>\n",
       "    <tr>\n",
       "      <th>std</th>\n",
       "      <td>208.343798</td>\n",
       "      <td>25.534669</td>\n",
       "      <td>32.457366</td>\n",
       "      <td>31.183501</td>\n",
       "      <td>32.722294</td>\n",
       "      <td>27.828916</td>\n",
       "      <td>29.060474</td>\n",
       "      <td>119.96304</td>\n",
       "      <td>1.66129</td>\n",
       "    </tr>\n",
       "    <tr>\n",
       "      <th>min</th>\n",
       "      <td>1.000000</td>\n",
       "      <td>1.000000</td>\n",
       "      <td>5.000000</td>\n",
       "      <td>5.000000</td>\n",
       "      <td>10.000000</td>\n",
       "      <td>20.000000</td>\n",
       "      <td>5.000000</td>\n",
       "      <td>180.00000</td>\n",
       "      <td>1.00000</td>\n",
       "    </tr>\n",
       "    <tr>\n",
       "      <th>25%</th>\n",
       "      <td>184.750000</td>\n",
       "      <td>50.000000</td>\n",
       "      <td>55.000000</td>\n",
       "      <td>50.000000</td>\n",
       "      <td>49.750000</td>\n",
       "      <td>50.000000</td>\n",
       "      <td>45.000000</td>\n",
       "      <td>330.00000</td>\n",
       "      <td>2.00000</td>\n",
       "    </tr>\n",
       "    <tr>\n",
       "      <th>50%</th>\n",
       "      <td>364.500000</td>\n",
       "      <td>65.000000</td>\n",
       "      <td>75.000000</td>\n",
       "      <td>70.000000</td>\n",
       "      <td>65.000000</td>\n",
       "      <td>70.000000</td>\n",
       "      <td>65.000000</td>\n",
       "      <td>450.00000</td>\n",
       "      <td>3.00000</td>\n",
       "    </tr>\n",
       "    <tr>\n",
       "      <th>75%</th>\n",
       "      <td>539.250000</td>\n",
       "      <td>80.000000</td>\n",
       "      <td>100.000000</td>\n",
       "      <td>90.000000</td>\n",
       "      <td>95.000000</td>\n",
       "      <td>90.000000</td>\n",
       "      <td>90.000000</td>\n",
       "      <td>515.00000</td>\n",
       "      <td>5.00000</td>\n",
       "    </tr>\n",
       "    <tr>\n",
       "      <th>max</th>\n",
       "      <td>721.000000</td>\n",
       "      <td>255.000000</td>\n",
       "      <td>190.000000</td>\n",
       "      <td>230.000000</td>\n",
       "      <td>194.000000</td>\n",
       "      <td>230.000000</td>\n",
       "      <td>180.000000</td>\n",
       "      <td>780.00000</td>\n",
       "      <td>6.00000</td>\n",
       "    </tr>\n",
       "  </tbody>\n",
       "</table>\n",
       "</div>"
      ],
      "text/plain": [
       "                #          HP      Attack     Defense     Sp. Atk     Sp. Def  \\\n",
       "count  800.000000  800.000000  800.000000  800.000000  800.000000  800.000000   \n",
       "mean   362.813750   69.258750   79.001250   73.842500   72.820000   71.902500   \n",
       "std    208.343798   25.534669   32.457366   31.183501   32.722294   27.828916   \n",
       "min      1.000000    1.000000    5.000000    5.000000   10.000000   20.000000   \n",
       "25%    184.750000   50.000000   55.000000   50.000000   49.750000   50.000000   \n",
       "50%    364.500000   65.000000   75.000000   70.000000   65.000000   70.000000   \n",
       "75%    539.250000   80.000000  100.000000   90.000000   95.000000   90.000000   \n",
       "max    721.000000  255.000000  190.000000  230.000000  194.000000  230.000000   \n",
       "\n",
       "            Speed      Total  Generation  \n",
       "count  800.000000  800.00000   800.00000  \n",
       "mean    68.277500  435.10250     3.32375  \n",
       "std     29.060474  119.96304     1.66129  \n",
       "min      5.000000  180.00000     1.00000  \n",
       "25%     45.000000  330.00000     2.00000  \n",
       "50%     65.000000  450.00000     3.00000  \n",
       "75%     90.000000  515.00000     5.00000  \n",
       "max    180.000000  780.00000     6.00000  "
      ]
     },
     "execution_count": 11,
     "metadata": {},
     "output_type": "execute_result"
    }
   ],
   "source": [
    "poke_df.describe()"
   ]
  },
  {
   "cell_type": "markdown",
   "id": "330644a2",
   "metadata": {},
   "source": [
    "## Exploratory Analysis and Visualization\n",
    "\n",
    "I will be creating subarrays with legendaries to be compared within the types that are legendaries, and also against those that aren't."
   ]
  },
  {
   "cell_type": "code",
   "execution_count": 12,
   "id": "7aaf2560",
   "metadata": {},
   "outputs": [],
   "source": [
    "import seaborn as sns\n",
    "import matplotlib\n",
    "import matplotlib.pyplot as plt\n",
    "%matplotlib inline\n",
    "\n",
    "sns.set_style('darkgrid')\n",
    "matplotlib.rcParams['font.size'] = 14\n",
    "matplotlib.rcParams['figure.figsize'] = (9, 5)\n",
    "matplotlib.rcParams['figure.facecolor'] = '#00000000'"
   ]
  },
  {
   "cell_type": "code",
   "execution_count": 13,
   "id": "0cd3b9c2",
   "metadata": {},
   "outputs": [
    {
     "name": "stdout",
     "output_type": "stream",
     "text": [
      "There is 18 types of pokemons.\n"
     ]
    }
   ],
   "source": [
    "#All the unique values on 'Type 1'\n",
    "unique_types1 = poke_df['Type 1'].nunique()\n",
    "print('There is', unique_types1, 'types of pokemons.')"
   ]
  },
  {
   "cell_type": "code",
   "execution_count": 14,
   "id": "237a0646",
   "metadata": {},
   "outputs": [
    {
     "data": {
      "text/plain": [
       "Water       112\n",
       "Normal       98\n",
       "Grass        70\n",
       "Bug          69\n",
       "Psychic      57\n",
       "Fire         52\n",
       "Electric     44\n",
       "Rock         44\n",
       "Dragon       32\n",
       "Ground       32\n",
       "Ghost        32\n",
       "Dark         31\n",
       "Poison       28\n",
       "Steel        27\n",
       "Fighting     27\n",
       "Ice          24\n",
       "Fairy        17\n",
       "Flying        4\n",
       "Name: Type 1, dtype: int64"
      ]
     },
     "execution_count": 14,
     "metadata": {},
     "output_type": "execute_result"
    }
   ],
   "source": [
    "#All the type\n",
    "poke_df['Type 1'].value_counts()"
   ]
  },
  {
   "cell_type": "code",
   "execution_count": 15,
   "id": "f2e39bc3",
   "metadata": {},
   "outputs": [
    {
     "data": {
      "text/html": [
       "<div>\n",
       "<style scoped>\n",
       "    .dataframe tbody tr th:only-of-type {\n",
       "        vertical-align: middle;\n",
       "    }\n",
       "\n",
       "    .dataframe tbody tr th {\n",
       "        vertical-align: top;\n",
       "    }\n",
       "\n",
       "    .dataframe thead th {\n",
       "        text-align: right;\n",
       "    }\n",
       "</style>\n",
       "<table border=\"1\" class=\"dataframe\">\n",
       "  <thead>\n",
       "    <tr style=\"text-align: right;\">\n",
       "      <th></th>\n",
       "      <th>#</th>\n",
       "      <th>Name</th>\n",
       "      <th>Type 1</th>\n",
       "      <th>Type 2</th>\n",
       "      <th>HP</th>\n",
       "      <th>Attack</th>\n",
       "      <th>Defense</th>\n",
       "      <th>Sp. Atk</th>\n",
       "      <th>Sp. Def</th>\n",
       "      <th>Speed</th>\n",
       "      <th>Total</th>\n",
       "      <th>Generation</th>\n",
       "      <th>Legendary</th>\n",
       "    </tr>\n",
       "  </thead>\n",
       "  <tbody>\n",
       "    <tr>\n",
       "      <th>0</th>\n",
       "      <td>92</td>\n",
       "      <td>Gastly</td>\n",
       "      <td>Ghost</td>\n",
       "      <td>Poison</td>\n",
       "      <td>30</td>\n",
       "      <td>35</td>\n",
       "      <td>30</td>\n",
       "      <td>100</td>\n",
       "      <td>35</td>\n",
       "      <td>80</td>\n",
       "      <td>310</td>\n",
       "      <td>1</td>\n",
       "      <td>False</td>\n",
       "    </tr>\n",
       "    <tr>\n",
       "      <th>1</th>\n",
       "      <td>93</td>\n",
       "      <td>Haunter</td>\n",
       "      <td>Ghost</td>\n",
       "      <td>Poison</td>\n",
       "      <td>45</td>\n",
       "      <td>50</td>\n",
       "      <td>45</td>\n",
       "      <td>115</td>\n",
       "      <td>55</td>\n",
       "      <td>95</td>\n",
       "      <td>405</td>\n",
       "      <td>1</td>\n",
       "      <td>False</td>\n",
       "    </tr>\n",
       "    <tr>\n",
       "      <th>2</th>\n",
       "      <td>94</td>\n",
       "      <td>Gengar</td>\n",
       "      <td>Ghost</td>\n",
       "      <td>Poison</td>\n",
       "      <td>60</td>\n",
       "      <td>65</td>\n",
       "      <td>60</td>\n",
       "      <td>130</td>\n",
       "      <td>75</td>\n",
       "      <td>110</td>\n",
       "      <td>500</td>\n",
       "      <td>1</td>\n",
       "      <td>False</td>\n",
       "    </tr>\n",
       "    <tr>\n",
       "      <th>3</th>\n",
       "      <td>94</td>\n",
       "      <td>GengarMega Gengar</td>\n",
       "      <td>Ghost</td>\n",
       "      <td>Poison</td>\n",
       "      <td>60</td>\n",
       "      <td>65</td>\n",
       "      <td>80</td>\n",
       "      <td>170</td>\n",
       "      <td>95</td>\n",
       "      <td>130</td>\n",
       "      <td>600</td>\n",
       "      <td>1</td>\n",
       "      <td>False</td>\n",
       "    </tr>\n",
       "    <tr>\n",
       "      <th>4</th>\n",
       "      <td>200</td>\n",
       "      <td>Misdreavus</td>\n",
       "      <td>Ghost</td>\n",
       "      <td>NaN</td>\n",
       "      <td>60</td>\n",
       "      <td>60</td>\n",
       "      <td>60</td>\n",
       "      <td>85</td>\n",
       "      <td>85</td>\n",
       "      <td>85</td>\n",
       "      <td>435</td>\n",
       "      <td>2</td>\n",
       "      <td>False</td>\n",
       "    </tr>\n",
       "  </tbody>\n",
       "</table>\n",
       "</div>"
      ],
      "text/plain": [
       "     #               Name Type 1  Type 2  HP  Attack  Defense  Sp. Atk  \\\n",
       "0   92             Gastly  Ghost  Poison  30      35       30      100   \n",
       "1   93            Haunter  Ghost  Poison  45      50       45      115   \n",
       "2   94             Gengar  Ghost  Poison  60      65       60      130   \n",
       "3   94  GengarMega Gengar  Ghost  Poison  60      65       80      170   \n",
       "4  200         Misdreavus  Ghost     NaN  60      60       60       85   \n",
       "\n",
       "   Sp. Def  Speed  Total  Generation  Legendary  \n",
       "0       35     80    310           1      False  \n",
       "1       55     95    405           1      False  \n",
       "2       75    110    500           1      False  \n",
       "3       95    130    600           1      False  \n",
       "4       85     85    435           2      False  "
      ]
     },
     "execution_count": 15,
     "metadata": {},
     "output_type": "execute_result"
    }
   ],
   "source": [
    "#Total attack of some types that has the same number of pokemon ex. ghost, dragon, ground\n",
    "all_ghost_type = poke_df.loc[poke_df['Type 1'] == 'Ghost']\n",
    "all_ghost_type.reset_index(drop=True, inplace=True)\n",
    "all_ghost_type.head(5)"
   ]
  },
  {
   "cell_type": "code",
   "execution_count": 16,
   "id": "8173b048",
   "metadata": {},
   "outputs": [],
   "source": [
    "#Doing the same for 'Dragon' and 'Ground'\n",
    "all_dragon_type = poke_df.loc[poke_df['Type 1'] == 'Dragon']\n",
    "\n",
    "all_ground_type = poke_df.loc[poke_df['Type 1'] == 'Ground']"
   ]
  },
  {
   "cell_type": "code",
   "execution_count": 17,
   "id": "3f2792cb",
   "metadata": {},
   "outputs": [
    {
     "data": {
      "text/plain": [
       "(2361, 3588, 3064)"
      ]
     },
     "execution_count": 17,
     "metadata": {},
     "output_type": "execute_result"
    }
   ],
   "source": [
    "#Comparing the attack sum of each one\n",
    "all_ghost_type['Attack'].sum(), all_dragon_type['Attack'].sum(), all_ground_type['Attack'].sum()"
   ]
  },
  {
   "cell_type": "code",
   "execution_count": 18,
   "id": "bd21567a",
   "metadata": {},
   "outputs": [
    {
     "data": {
      "text/plain": [
       "(12, 2, 4)"
      ]
     },
     "execution_count": 18,
     "metadata": {},
     "output_type": "execute_result"
    }
   ],
   "source": [
    "#How many legendaries do we have on those 3 subsets\n",
    "dragon_legendary = all_dragon_type.loc[all_dragon_type['Legendary'] == True]\n",
    "\n",
    "ghost_legendary = all_ghost_type.loc[all_ghost_type['Legendary'] == True]\n",
    "\n",
    "ground_legendary = all_ground_type.loc[all_ground_type['Legendary'] == True]\n",
    "\n",
    "#How many legendaries are in each one\n",
    "len(dragon_legendary), len(ghost_legendary), len(ground_legendary)"
   ]
  },
  {
   "cell_type": "code",
   "execution_count": 19,
   "id": "2ecc5ec4",
   "metadata": {},
   "outputs": [
    {
     "data": {
      "text/html": [
       "<div>\n",
       "<style scoped>\n",
       "    .dataframe tbody tr th:only-of-type {\n",
       "        vertical-align: middle;\n",
       "    }\n",
       "\n",
       "    .dataframe tbody tr th {\n",
       "        vertical-align: top;\n",
       "    }\n",
       "\n",
       "    .dataframe thead th {\n",
       "        text-align: right;\n",
       "    }\n",
       "</style>\n",
       "<table border=\"1\" class=\"dataframe\">\n",
       "  <thead>\n",
       "    <tr style=\"text-align: right;\">\n",
       "      <th></th>\n",
       "      <th>#</th>\n",
       "      <th>Name</th>\n",
       "      <th>Type 1</th>\n",
       "      <th>Type 2</th>\n",
       "      <th>HP</th>\n",
       "      <th>Attack</th>\n",
       "      <th>Defense</th>\n",
       "      <th>Sp. Atk</th>\n",
       "      <th>Sp. Def</th>\n",
       "      <th>Speed</th>\n",
       "      <th>Total</th>\n",
       "      <th>Generation</th>\n",
       "      <th>Legendary</th>\n",
       "    </tr>\n",
       "  </thead>\n",
       "  <tbody>\n",
       "    <tr>\n",
       "      <th>426</th>\n",
       "      <td>384</td>\n",
       "      <td>RayquazaMega Rayquaza</td>\n",
       "      <td>Dragon</td>\n",
       "      <td>Flying</td>\n",
       "      <td>105</td>\n",
       "      <td>180</td>\n",
       "      <td>100</td>\n",
       "      <td>180</td>\n",
       "      <td>100</td>\n",
       "      <td>115</td>\n",
       "      <td>780</td>\n",
       "      <td>3</td>\n",
       "      <td>True</td>\n",
       "    </tr>\n",
       "    <tr>\n",
       "      <th>711</th>\n",
       "      <td>646</td>\n",
       "      <td>KyuremBlack Kyurem</td>\n",
       "      <td>Dragon</td>\n",
       "      <td>Ice</td>\n",
       "      <td>125</td>\n",
       "      <td>170</td>\n",
       "      <td>100</td>\n",
       "      <td>120</td>\n",
       "      <td>90</td>\n",
       "      <td>95</td>\n",
       "      <td>700</td>\n",
       "      <td>5</td>\n",
       "      <td>True</td>\n",
       "    </tr>\n",
       "    <tr>\n",
       "      <th>425</th>\n",
       "      <td>384</td>\n",
       "      <td>Rayquaza</td>\n",
       "      <td>Dragon</td>\n",
       "      <td>Flying</td>\n",
       "      <td>105</td>\n",
       "      <td>150</td>\n",
       "      <td>90</td>\n",
       "      <td>150</td>\n",
       "      <td>90</td>\n",
       "      <td>95</td>\n",
       "      <td>680</td>\n",
       "      <td>3</td>\n",
       "      <td>True</td>\n",
       "    </tr>\n",
       "    <tr>\n",
       "      <th>707</th>\n",
       "      <td>644</td>\n",
       "      <td>Zekrom</td>\n",
       "      <td>Dragon</td>\n",
       "      <td>Electric</td>\n",
       "      <td>100</td>\n",
       "      <td>150</td>\n",
       "      <td>120</td>\n",
       "      <td>120</td>\n",
       "      <td>100</td>\n",
       "      <td>90</td>\n",
       "      <td>680</td>\n",
       "      <td>5</td>\n",
       "      <td>True</td>\n",
       "    </tr>\n",
       "    <tr>\n",
       "      <th>420</th>\n",
       "      <td>381</td>\n",
       "      <td>LatiosMega Latios</td>\n",
       "      <td>Dragon</td>\n",
       "      <td>Psychic</td>\n",
       "      <td>80</td>\n",
       "      <td>130</td>\n",
       "      <td>100</td>\n",
       "      <td>160</td>\n",
       "      <td>120</td>\n",
       "      <td>110</td>\n",
       "      <td>700</td>\n",
       "      <td>3</td>\n",
       "      <td>True</td>\n",
       "    </tr>\n",
       "  </tbody>\n",
       "</table>\n",
       "</div>"
      ],
      "text/plain": [
       "       #                   Name  Type 1    Type 2   HP  Attack  Defense  \\\n",
       "426  384  RayquazaMega Rayquaza  Dragon    Flying  105     180      100   \n",
       "711  646     KyuremBlack Kyurem  Dragon       Ice  125     170      100   \n",
       "425  384               Rayquaza  Dragon    Flying  105     150       90   \n",
       "707  644                 Zekrom  Dragon  Electric  100     150      120   \n",
       "420  381      LatiosMega Latios  Dragon   Psychic   80     130      100   \n",
       "\n",
       "     Sp. Atk  Sp. Def  Speed  Total  Generation  Legendary  \n",
       "426      180      100    115    780           3       True  \n",
       "711      120       90     95    700           5       True  \n",
       "425      150       90     95    680           3       True  \n",
       "707      120      100     90    680           5       True  \n",
       "420      160      120    110    700           3       True  "
      ]
     },
     "execution_count": 19,
     "metadata": {},
     "output_type": "execute_result"
    }
   ],
   "source": [
    "#Who out of the dragon legendaries has the highest attack?\n",
    "dragon_legendary.sort_values('Attack', ascending=False).head(5)"
   ]
  },
  {
   "cell_type": "code",
   "execution_count": 20,
   "id": "7a187c4c",
   "metadata": {},
   "outputs": [],
   "source": [
    "import matplotlib.pyplot as plt"
   ]
  },
  {
   "cell_type": "code",
   "execution_count": 21,
   "id": "5e451c6f",
   "metadata": {},
   "outputs": [
    {
     "data": {
      "image/png": "[encoded data removed]",
      "text/plain": [
       "<Figure size 648x360 with 1 Axes>"
      ]
     },
     "metadata": {
      "needs_background": "light"
     },
     "output_type": "display_data"
    }
   ],
   "source": [
    "plt.plot(dragon_legendary.Attack)\n",
    "plt.plot(dragon_legendary.Defense)\n",
    "\n",
    "plt.title('Relation Between Attack and Defense On Legendary Dragon Type')\n",
    "plt.legend(['Attack', 'Defense']);"
   ]
  },
  {
   "cell_type": "code",
   "execution_count": 22,
   "id": "bbb3f34d",
   "metadata": {},
   "outputs": [
    {
     "data": {
      "text/html": [
       "<div>\n",
       "<style scoped>\n",
       "    .dataframe tbody tr th:only-of-type {\n",
       "        vertical-align: middle;\n",
       "    }\n",
       "\n",
       "    .dataframe tbody tr th {\n",
       "        vertical-align: top;\n",
       "    }\n",
       "\n",
       "    .dataframe thead th {\n",
       "        text-align: right;\n",
       "    }\n",
       "</style>\n",
       "<table border=\"1\" class=\"dataframe\">\n",
       "  <thead>\n",
       "    <tr style=\"text-align: right;\">\n",
       "      <th></th>\n",
       "      <th>#</th>\n",
       "      <th>Name</th>\n",
       "      <th>Type 1</th>\n",
       "      <th>Type 2</th>\n",
       "      <th>HP</th>\n",
       "      <th>Attack</th>\n",
       "      <th>Defense</th>\n",
       "      <th>Sp. Atk</th>\n",
       "      <th>Sp. Def</th>\n",
       "      <th>Speed</th>\n",
       "      <th>Total</th>\n",
       "      <th>Generation</th>\n",
       "      <th>Legendary</th>\n",
       "    </tr>\n",
       "  </thead>\n",
       "  <tbody>\n",
       "    <tr>\n",
       "      <th>426</th>\n",
       "      <td>384</td>\n",
       "      <td>RayquazaMega Rayquaza</td>\n",
       "      <td>Dragon</td>\n",
       "      <td>Flying</td>\n",
       "      <td>105</td>\n",
       "      <td>180</td>\n",
       "      <td>100</td>\n",
       "      <td>180</td>\n",
       "      <td>100</td>\n",
       "      <td>115</td>\n",
       "      <td>780</td>\n",
       "      <td>3</td>\n",
       "      <td>True</td>\n",
       "    </tr>\n",
       "    <tr>\n",
       "      <th>494</th>\n",
       "      <td>445</td>\n",
       "      <td>GarchompMega Garchomp</td>\n",
       "      <td>Dragon</td>\n",
       "      <td>Ground</td>\n",
       "      <td>108</td>\n",
       "      <td>170</td>\n",
       "      <td>115</td>\n",
       "      <td>120</td>\n",
       "      <td>95</td>\n",
       "      <td>92</td>\n",
       "      <td>700</td>\n",
       "      <td>4</td>\n",
       "      <td>False</td>\n",
       "    </tr>\n",
       "    <tr>\n",
       "      <th>711</th>\n",
       "      <td>646</td>\n",
       "      <td>KyuremBlack Kyurem</td>\n",
       "      <td>Dragon</td>\n",
       "      <td>Ice</td>\n",
       "      <td>125</td>\n",
       "      <td>170</td>\n",
       "      <td>100</td>\n",
       "      <td>120</td>\n",
       "      <td>90</td>\n",
       "      <td>95</td>\n",
       "      <td>700</td>\n",
       "      <td>5</td>\n",
       "      <td>True</td>\n",
       "    </tr>\n",
       "    <tr>\n",
       "      <th>707</th>\n",
       "      <td>644</td>\n",
       "      <td>Zekrom</td>\n",
       "      <td>Dragon</td>\n",
       "      <td>Electric</td>\n",
       "      <td>100</td>\n",
       "      <td>150</td>\n",
       "      <td>120</td>\n",
       "      <td>120</td>\n",
       "      <td>100</td>\n",
       "      <td>90</td>\n",
       "      <td>680</td>\n",
       "      <td>5</td>\n",
       "      <td>True</td>\n",
       "    </tr>\n",
       "    <tr>\n",
       "      <th>425</th>\n",
       "      <td>384</td>\n",
       "      <td>Rayquaza</td>\n",
       "      <td>Dragon</td>\n",
       "      <td>Flying</td>\n",
       "      <td>105</td>\n",
       "      <td>150</td>\n",
       "      <td>90</td>\n",
       "      <td>150</td>\n",
       "      <td>90</td>\n",
       "      <td>95</td>\n",
       "      <td>680</td>\n",
       "      <td>3</td>\n",
       "      <td>True</td>\n",
       "    </tr>\n",
       "  </tbody>\n",
       "</table>\n",
       "</div>"
      ],
      "text/plain": [
       "       #                   Name  Type 1    Type 2   HP  Attack  Defense  \\\n",
       "426  384  RayquazaMega Rayquaza  Dragon    Flying  105     180      100   \n",
       "494  445  GarchompMega Garchomp  Dragon    Ground  108     170      115   \n",
       "711  646     KyuremBlack Kyurem  Dragon       Ice  125     170      100   \n",
       "707  644                 Zekrom  Dragon  Electric  100     150      120   \n",
       "425  384               Rayquaza  Dragon    Flying  105     150       90   \n",
       "\n",
       "     Sp. Atk  Sp. Def  Speed  Total  Generation  Legendary  \n",
       "426      180      100    115    780           3       True  \n",
       "494      120       95     92    700           4      False  \n",
       "711      120       90     95    700           5       True  \n",
       "707      120      100     90    680           5       True  \n",
       "425      150       90     95    680           3       True  "
      ]
     },
     "execution_count": 22,
     "metadata": {},
     "output_type": "execute_result"
    }
   ],
   "source": [
    "#Is the attack higher than the non legendary?\n",
    "all_dragon_type.sort_values('Attack', ascending=False).head(5) #The non legendary is 10pts behind"
   ]
  },
  {
   "cell_type": "code",
   "execution_count": 23,
   "id": "8a6b05b1",
   "metadata": {},
   "outputs": [
    {
     "data": {
      "image/png": "[encoded data removed]",
      "text/plain": [
       "<Figure size 648x360 with 1 Axes>"
      ]
     },
     "metadata": {
      "needs_background": "light"
     },
     "output_type": "display_data"
    }
   ],
   "source": [
    "plt.plot(all_dragon_type.Attack)\n",
    "plt.plot(all_dragon_type.Defense)\n",
    "\n",
    "plt.title('Relation Between Attack and Defense On All Dragon Type')\n",
    "plt.legend(['Attack', 'Defense']);"
   ]
  },
  {
   "cell_type": "code",
   "execution_count": 24,
   "id": "b0ce09fd",
   "metadata": {},
   "outputs": [
    {
     "data": {
      "text/html": [
       "<div>\n",
       "<style scoped>\n",
       "    .dataframe tbody tr th:only-of-type {\n",
       "        vertical-align: middle;\n",
       "    }\n",
       "\n",
       "    .dataframe tbody tr th {\n",
       "        vertical-align: top;\n",
       "    }\n",
       "\n",
       "    .dataframe thead th {\n",
       "        text-align: right;\n",
       "    }\n",
       "</style>\n",
       "<table border=\"1\" class=\"dataframe\">\n",
       "  <thead>\n",
       "    <tr style=\"text-align: right;\">\n",
       "      <th></th>\n",
       "      <th>#</th>\n",
       "      <th>Name</th>\n",
       "      <th>Type 1</th>\n",
       "      <th>Type 2</th>\n",
       "      <th>HP</th>\n",
       "      <th>Attack</th>\n",
       "      <th>Defense</th>\n",
       "      <th>Sp. Atk</th>\n",
       "      <th>Sp. Def</th>\n",
       "      <th>Speed</th>\n",
       "      <th>Total</th>\n",
       "      <th>Generation</th>\n",
       "      <th>Legendary</th>\n",
       "    </tr>\n",
       "  </thead>\n",
       "  <tbody>\n",
       "    <tr>\n",
       "      <th>424</th>\n",
       "      <td>383</td>\n",
       "      <td>GroudonPrimal Groudon</td>\n",
       "      <td>Ground</td>\n",
       "      <td>Fire</td>\n",
       "      <td>100</td>\n",
       "      <td>180</td>\n",
       "      <td>160</td>\n",
       "      <td>150</td>\n",
       "      <td>90</td>\n",
       "      <td>90</td>\n",
       "      <td>770</td>\n",
       "      <td>3</td>\n",
       "      <td>True</td>\n",
       "    </tr>\n",
       "    <tr>\n",
       "      <th>423</th>\n",
       "      <td>383</td>\n",
       "      <td>Groudon</td>\n",
       "      <td>Ground</td>\n",
       "      <td>NaN</td>\n",
       "      <td>100</td>\n",
       "      <td>150</td>\n",
       "      <td>140</td>\n",
       "      <td>100</td>\n",
       "      <td>90</td>\n",
       "      <td>90</td>\n",
       "      <td>670</td>\n",
       "      <td>3</td>\n",
       "      <td>True</td>\n",
       "    </tr>\n",
       "    <tr>\n",
       "      <th>709</th>\n",
       "      <td>645</td>\n",
       "      <td>LandorusTherian Forme</td>\n",
       "      <td>Ground</td>\n",
       "      <td>Flying</td>\n",
       "      <td>89</td>\n",
       "      <td>145</td>\n",
       "      <td>90</td>\n",
       "      <td>105</td>\n",
       "      <td>80</td>\n",
       "      <td>91</td>\n",
       "      <td>600</td>\n",
       "      <td>5</td>\n",
       "      <td>True</td>\n",
       "    </tr>\n",
       "    <tr>\n",
       "      <th>708</th>\n",
       "      <td>645</td>\n",
       "      <td>LandorusIncarnate Forme</td>\n",
       "      <td>Ground</td>\n",
       "      <td>Flying</td>\n",
       "      <td>89</td>\n",
       "      <td>125</td>\n",
       "      <td>90</td>\n",
       "      <td>115</td>\n",
       "      <td>80</td>\n",
       "      <td>101</td>\n",
       "      <td>600</td>\n",
       "      <td>5</td>\n",
       "      <td>True</td>\n",
       "    </tr>\n",
       "  </tbody>\n",
       "</table>\n",
       "</div>"
      ],
      "text/plain": [
       "       #                     Name  Type 1  Type 2   HP  Attack  Defense  \\\n",
       "424  383    GroudonPrimal Groudon  Ground    Fire  100     180      160   \n",
       "423  383                  Groudon  Ground     NaN  100     150      140   \n",
       "709  645    LandorusTherian Forme  Ground  Flying   89     145       90   \n",
       "708  645  LandorusIncarnate Forme  Ground  Flying   89     125       90   \n",
       "\n",
       "     Sp. Atk  Sp. Def  Speed  Total  Generation  Legendary  \n",
       "424      150       90     90    770           3       True  \n",
       "423      100       90     90    670           3       True  \n",
       "709      105       80     91    600           5       True  \n",
       "708      115       80    101    600           5       True  "
      ]
     },
     "execution_count": 24,
     "metadata": {},
     "output_type": "execute_result"
    }
   ],
   "source": [
    "ground_legendary.sort_values('Attack', ascending=False).head(5)"
   ]
  },
  {
   "cell_type": "code",
   "execution_count": 25,
   "id": "7e131e92",
   "metadata": {},
   "outputs": [
    {
     "data": {
      "text/html": [
       "<div>\n",
       "<style scoped>\n",
       "    .dataframe tbody tr th:only-of-type {\n",
       "        vertical-align: middle;\n",
       "    }\n",
       "\n",
       "    .dataframe tbody tr th {\n",
       "        vertical-align: top;\n",
       "    }\n",
       "\n",
       "    .dataframe thead th {\n",
       "        text-align: right;\n",
       "    }\n",
       "</style>\n",
       "<table border=\"1\" class=\"dataframe\">\n",
       "  <thead>\n",
       "    <tr style=\"text-align: right;\">\n",
       "      <th></th>\n",
       "      <th>#</th>\n",
       "      <th>Name</th>\n",
       "      <th>Type 1</th>\n",
       "      <th>Type 2</th>\n",
       "      <th>HP</th>\n",
       "      <th>Attack</th>\n",
       "      <th>Defense</th>\n",
       "      <th>Sp. Atk</th>\n",
       "      <th>Sp. Def</th>\n",
       "      <th>Speed</th>\n",
       "      <th>Total</th>\n",
       "      <th>Generation</th>\n",
       "      <th>Legendary</th>\n",
       "    </tr>\n",
       "  </thead>\n",
       "  <tbody>\n",
       "    <tr>\n",
       "      <th>16</th>\n",
       "      <td>487</td>\n",
       "      <td>GiratinaOrigin Forme</td>\n",
       "      <td>Ghost</td>\n",
       "      <td>Dragon</td>\n",
       "      <td>150</td>\n",
       "      <td>120</td>\n",
       "      <td>100</td>\n",
       "      <td>120</td>\n",
       "      <td>100</td>\n",
       "      <td>90</td>\n",
       "      <td>680</td>\n",
       "      <td>4</td>\n",
       "      <td>True</td>\n",
       "    </tr>\n",
       "    <tr>\n",
       "      <th>15</th>\n",
       "      <td>487</td>\n",
       "      <td>GiratinaAltered Forme</td>\n",
       "      <td>Ghost</td>\n",
       "      <td>Dragon</td>\n",
       "      <td>150</td>\n",
       "      <td>100</td>\n",
       "      <td>120</td>\n",
       "      <td>100</td>\n",
       "      <td>120</td>\n",
       "      <td>90</td>\n",
       "      <td>680</td>\n",
       "      <td>4</td>\n",
       "      <td>True</td>\n",
       "    </tr>\n",
       "  </tbody>\n",
       "</table>\n",
       "</div>"
      ],
      "text/plain": [
       "      #                   Name Type 1  Type 2   HP  Attack  Defense  Sp. Atk  \\\n",
       "16  487   GiratinaOrigin Forme  Ghost  Dragon  150     120      100      120   \n",
       "15  487  GiratinaAltered Forme  Ghost  Dragon  150     100      120      100   \n",
       "\n",
       "    Sp. Def  Speed  Total  Generation  Legendary  \n",
       "16      100     90    680           4       True  \n",
       "15      120     90    680           4       True  "
      ]
     },
     "execution_count": 25,
     "metadata": {},
     "output_type": "execute_result"
    }
   ],
   "source": [
    "ghost_legendary.sort_values('Attack', ascending=False).head(5)"
   ]
  },
  {
   "cell_type": "markdown",
   "id": "3d0b85e4",
   "metadata": {},
   "source": [
    "Creating subsets for legendaries pokemons and those that aren't."
   ]
  },
  {
   "cell_type": "code",
   "execution_count": 26,
   "id": "78384b6f",
   "metadata": {},
   "outputs": [
    {
     "data": {
      "text/html": [
       "<div>\n",
       "<style scoped>\n",
       "    .dataframe tbody tr th:only-of-type {\n",
       "        vertical-align: middle;\n",
       "    }\n",
       "\n",
       "    .dataframe tbody tr th {\n",
       "        vertical-align: top;\n",
       "    }\n",
       "\n",
       "    .dataframe thead th {\n",
       "        text-align: right;\n",
       "    }\n",
       "</style>\n",
       "<table border=\"1\" class=\"dataframe\">\n",
       "  <thead>\n",
       "    <tr style=\"text-align: right;\">\n",
       "      <th></th>\n",
       "      <th>#</th>\n",
       "      <th>Name</th>\n",
       "      <th>Type 1</th>\n",
       "      <th>Type 2</th>\n",
       "      <th>HP</th>\n",
       "      <th>Attack</th>\n",
       "      <th>Defense</th>\n",
       "      <th>Sp. Atk</th>\n",
       "      <th>Sp. Def</th>\n",
       "      <th>Speed</th>\n",
       "      <th>Total</th>\n",
       "      <th>Generation</th>\n",
       "      <th>Legendary</th>\n",
       "    </tr>\n",
       "  </thead>\n",
       "  <tbody>\n",
       "    <tr>\n",
       "      <th>156</th>\n",
       "      <td>144</td>\n",
       "      <td>Articuno</td>\n",
       "      <td>Ice</td>\n",
       "      <td>Flying</td>\n",
       "      <td>90</td>\n",
       "      <td>85</td>\n",
       "      <td>100</td>\n",
       "      <td>95</td>\n",
       "      <td>125</td>\n",
       "      <td>85</td>\n",
       "      <td>580</td>\n",
       "      <td>1</td>\n",
       "      <td>True</td>\n",
       "    </tr>\n",
       "    <tr>\n",
       "      <th>157</th>\n",
       "      <td>145</td>\n",
       "      <td>Zapdos</td>\n",
       "      <td>Electric</td>\n",
       "      <td>Flying</td>\n",
       "      <td>90</td>\n",
       "      <td>90</td>\n",
       "      <td>85</td>\n",
       "      <td>125</td>\n",
       "      <td>90</td>\n",
       "      <td>100</td>\n",
       "      <td>580</td>\n",
       "      <td>1</td>\n",
       "      <td>True</td>\n",
       "    </tr>\n",
       "    <tr>\n",
       "      <th>158</th>\n",
       "      <td>146</td>\n",
       "      <td>Moltres</td>\n",
       "      <td>Fire</td>\n",
       "      <td>Flying</td>\n",
       "      <td>90</td>\n",
       "      <td>100</td>\n",
       "      <td>90</td>\n",
       "      <td>125</td>\n",
       "      <td>85</td>\n",
       "      <td>90</td>\n",
       "      <td>580</td>\n",
       "      <td>1</td>\n",
       "      <td>True</td>\n",
       "    </tr>\n",
       "    <tr>\n",
       "      <th>162</th>\n",
       "      <td>150</td>\n",
       "      <td>Mewtwo</td>\n",
       "      <td>Psychic</td>\n",
       "      <td>NaN</td>\n",
       "      <td>106</td>\n",
       "      <td>110</td>\n",
       "      <td>90</td>\n",
       "      <td>154</td>\n",
       "      <td>90</td>\n",
       "      <td>130</td>\n",
       "      <td>680</td>\n",
       "      <td>1</td>\n",
       "      <td>True</td>\n",
       "    </tr>\n",
       "    <tr>\n",
       "      <th>163</th>\n",
       "      <td>150</td>\n",
       "      <td>MewtwoMega Mewtwo X</td>\n",
       "      <td>Psychic</td>\n",
       "      <td>Fighting</td>\n",
       "      <td>106</td>\n",
       "      <td>190</td>\n",
       "      <td>100</td>\n",
       "      <td>154</td>\n",
       "      <td>100</td>\n",
       "      <td>130</td>\n",
       "      <td>780</td>\n",
       "      <td>1</td>\n",
       "      <td>True</td>\n",
       "    </tr>\n",
       "    <tr>\n",
       "      <th>164</th>\n",
       "      <td>150</td>\n",
       "      <td>MewtwoMega Mewtwo Y</td>\n",
       "      <td>Psychic</td>\n",
       "      <td>NaN</td>\n",
       "      <td>106</td>\n",
       "      <td>150</td>\n",
       "      <td>70</td>\n",
       "      <td>194</td>\n",
       "      <td>120</td>\n",
       "      <td>140</td>\n",
       "      <td>780</td>\n",
       "      <td>1</td>\n",
       "      <td>True</td>\n",
       "    </tr>\n",
       "    <tr>\n",
       "      <th>262</th>\n",
       "      <td>243</td>\n",
       "      <td>Raikou</td>\n",
       "      <td>Electric</td>\n",
       "      <td>NaN</td>\n",
       "      <td>90</td>\n",
       "      <td>85</td>\n",
       "      <td>75</td>\n",
       "      <td>115</td>\n",
       "      <td>100</td>\n",
       "      <td>115</td>\n",
       "      <td>580</td>\n",
       "      <td>2</td>\n",
       "      <td>True</td>\n",
       "    </tr>\n",
       "    <tr>\n",
       "      <th>263</th>\n",
       "      <td>244</td>\n",
       "      <td>Entei</td>\n",
       "      <td>Fire</td>\n",
       "      <td>NaN</td>\n",
       "      <td>115</td>\n",
       "      <td>115</td>\n",
       "      <td>85</td>\n",
       "      <td>90</td>\n",
       "      <td>75</td>\n",
       "      <td>100</td>\n",
       "      <td>580</td>\n",
       "      <td>2</td>\n",
       "      <td>True</td>\n",
       "    </tr>\n",
       "    <tr>\n",
       "      <th>264</th>\n",
       "      <td>245</td>\n",
       "      <td>Suicune</td>\n",
       "      <td>Water</td>\n",
       "      <td>NaN</td>\n",
       "      <td>100</td>\n",
       "      <td>75</td>\n",
       "      <td>115</td>\n",
       "      <td>90</td>\n",
       "      <td>115</td>\n",
       "      <td>85</td>\n",
       "      <td>580</td>\n",
       "      <td>2</td>\n",
       "      <td>True</td>\n",
       "    </tr>\n",
       "    <tr>\n",
       "      <th>269</th>\n",
       "      <td>249</td>\n",
       "      <td>Lugia</td>\n",
       "      <td>Psychic</td>\n",
       "      <td>Flying</td>\n",
       "      <td>106</td>\n",
       "      <td>90</td>\n",
       "      <td>130</td>\n",
       "      <td>90</td>\n",
       "      <td>154</td>\n",
       "      <td>110</td>\n",
       "      <td>680</td>\n",
       "      <td>2</td>\n",
       "      <td>True</td>\n",
       "    </tr>\n",
       "  </tbody>\n",
       "</table>\n",
       "</div>"
      ],
      "text/plain": [
       "       #                 Name    Type 1    Type 2   HP  Attack  Defense  \\\n",
       "156  144             Articuno       Ice    Flying   90      85      100   \n",
       "157  145               Zapdos  Electric    Flying   90      90       85   \n",
       "158  146              Moltres      Fire    Flying   90     100       90   \n",
       "162  150               Mewtwo   Psychic       NaN  106     110       90   \n",
       "163  150  MewtwoMega Mewtwo X   Psychic  Fighting  106     190      100   \n",
       "164  150  MewtwoMega Mewtwo Y   Psychic       NaN  106     150       70   \n",
       "262  243               Raikou  Electric       NaN   90      85       75   \n",
       "263  244                Entei      Fire       NaN  115     115       85   \n",
       "264  245              Suicune     Water       NaN  100      75      115   \n",
       "269  249                Lugia   Psychic    Flying  106      90      130   \n",
       "\n",
       "     Sp. Atk  Sp. Def  Speed  Total  Generation  Legendary  \n",
       "156       95      125     85    580           1       True  \n",
       "157      125       90    100    580           1       True  \n",
       "158      125       85     90    580           1       True  \n",
       "162      154       90    130    680           1       True  \n",
       "163      154      100    130    780           1       True  \n",
       "164      194      120    140    780           1       True  \n",
       "262      115      100    115    580           2       True  \n",
       "263       90       75    100    580           2       True  \n",
       "264       90      115     85    580           2       True  \n",
       "269       90      154    110    680           2       True  "
      ]
     },
     "execution_count": 26,
     "metadata": {},
     "output_type": "execute_result"
    }
   ],
   "source": [
    "#Getting all the legendaries and not legendaries for comparison\n",
    "all_legendary = poke_df.loc[poke_df['Legendary'] == True]\n",
    "all_legendary.head(10)"
   ]
  },
  {
   "cell_type": "code",
   "execution_count": 27,
   "id": "e5e1927e",
   "metadata": {},
   "outputs": [
    {
     "data": {
      "text/html": [
       "<div>\n",
       "<style scoped>\n",
       "    .dataframe tbody tr th:only-of-type {\n",
       "        vertical-align: middle;\n",
       "    }\n",
       "\n",
       "    .dataframe tbody tr th {\n",
       "        vertical-align: top;\n",
       "    }\n",
       "\n",
       "    .dataframe thead th {\n",
       "        text-align: right;\n",
       "    }\n",
       "</style>\n",
       "<table border=\"1\" class=\"dataframe\">\n",
       "  <thead>\n",
       "    <tr style=\"text-align: right;\">\n",
       "      <th></th>\n",
       "      <th>#</th>\n",
       "      <th>Name</th>\n",
       "      <th>Type 1</th>\n",
       "      <th>Type 2</th>\n",
       "      <th>HP</th>\n",
       "      <th>Attack</th>\n",
       "      <th>Defense</th>\n",
       "      <th>Sp. Atk</th>\n",
       "      <th>Sp. Def</th>\n",
       "      <th>Speed</th>\n",
       "      <th>Total</th>\n",
       "      <th>Generation</th>\n",
       "      <th>Legendary</th>\n",
       "    </tr>\n",
       "  </thead>\n",
       "  <tbody>\n",
       "    <tr>\n",
       "      <th>0</th>\n",
       "      <td>1</td>\n",
       "      <td>Bulbasaur</td>\n",
       "      <td>Grass</td>\n",
       "      <td>Poison</td>\n",
       "      <td>45</td>\n",
       "      <td>49</td>\n",
       "      <td>49</td>\n",
       "      <td>65</td>\n",
       "      <td>65</td>\n",
       "      <td>45</td>\n",
       "      <td>318</td>\n",
       "      <td>1</td>\n",
       "      <td>False</td>\n",
       "    </tr>\n",
       "    <tr>\n",
       "      <th>1</th>\n",
       "      <td>2</td>\n",
       "      <td>Ivysaur</td>\n",
       "      <td>Grass</td>\n",
       "      <td>Poison</td>\n",
       "      <td>60</td>\n",
       "      <td>62</td>\n",
       "      <td>63</td>\n",
       "      <td>80</td>\n",
       "      <td>80</td>\n",
       "      <td>60</td>\n",
       "      <td>405</td>\n",
       "      <td>1</td>\n",
       "      <td>False</td>\n",
       "    </tr>\n",
       "    <tr>\n",
       "      <th>2</th>\n",
       "      <td>3</td>\n",
       "      <td>Venusaur</td>\n",
       "      <td>Grass</td>\n",
       "      <td>Poison</td>\n",
       "      <td>80</td>\n",
       "      <td>82</td>\n",
       "      <td>83</td>\n",
       "      <td>100</td>\n",
       "      <td>100</td>\n",
       "      <td>80</td>\n",
       "      <td>525</td>\n",
       "      <td>1</td>\n",
       "      <td>False</td>\n",
       "    </tr>\n",
       "    <tr>\n",
       "      <th>3</th>\n",
       "      <td>3</td>\n",
       "      <td>VenusaurMega Venusaur</td>\n",
       "      <td>Grass</td>\n",
       "      <td>Poison</td>\n",
       "      <td>80</td>\n",
       "      <td>100</td>\n",
       "      <td>123</td>\n",
       "      <td>122</td>\n",
       "      <td>120</td>\n",
       "      <td>80</td>\n",
       "      <td>625</td>\n",
       "      <td>1</td>\n",
       "      <td>False</td>\n",
       "    </tr>\n",
       "    <tr>\n",
       "      <th>4</th>\n",
       "      <td>4</td>\n",
       "      <td>Charmander</td>\n",
       "      <td>Fire</td>\n",
       "      <td>NaN</td>\n",
       "      <td>39</td>\n",
       "      <td>52</td>\n",
       "      <td>43</td>\n",
       "      <td>60</td>\n",
       "      <td>50</td>\n",
       "      <td>65</td>\n",
       "      <td>309</td>\n",
       "      <td>1</td>\n",
       "      <td>False</td>\n",
       "    </tr>\n",
       "    <tr>\n",
       "      <th>5</th>\n",
       "      <td>5</td>\n",
       "      <td>Charmeleon</td>\n",
       "      <td>Fire</td>\n",
       "      <td>NaN</td>\n",
       "      <td>58</td>\n",
       "      <td>64</td>\n",
       "      <td>58</td>\n",
       "      <td>80</td>\n",
       "      <td>65</td>\n",
       "      <td>80</td>\n",
       "      <td>405</td>\n",
       "      <td>1</td>\n",
       "      <td>False</td>\n",
       "    </tr>\n",
       "    <tr>\n",
       "      <th>6</th>\n",
       "      <td>6</td>\n",
       "      <td>Charizard</td>\n",
       "      <td>Fire</td>\n",
       "      <td>Flying</td>\n",
       "      <td>78</td>\n",
       "      <td>84</td>\n",
       "      <td>78</td>\n",
       "      <td>109</td>\n",
       "      <td>85</td>\n",
       "      <td>100</td>\n",
       "      <td>534</td>\n",
       "      <td>1</td>\n",
       "      <td>False</td>\n",
       "    </tr>\n",
       "    <tr>\n",
       "      <th>7</th>\n",
       "      <td>6</td>\n",
       "      <td>CharizardMega Charizard X</td>\n",
       "      <td>Fire</td>\n",
       "      <td>Dragon</td>\n",
       "      <td>78</td>\n",
       "      <td>130</td>\n",
       "      <td>111</td>\n",
       "      <td>130</td>\n",
       "      <td>85</td>\n",
       "      <td>100</td>\n",
       "      <td>634</td>\n",
       "      <td>1</td>\n",
       "      <td>False</td>\n",
       "    </tr>\n",
       "    <tr>\n",
       "      <th>8</th>\n",
       "      <td>6</td>\n",
       "      <td>CharizardMega Charizard Y</td>\n",
       "      <td>Fire</td>\n",
       "      <td>Flying</td>\n",
       "      <td>78</td>\n",
       "      <td>104</td>\n",
       "      <td>78</td>\n",
       "      <td>159</td>\n",
       "      <td>115</td>\n",
       "      <td>100</td>\n",
       "      <td>634</td>\n",
       "      <td>1</td>\n",
       "      <td>False</td>\n",
       "    </tr>\n",
       "    <tr>\n",
       "      <th>9</th>\n",
       "      <td>7</td>\n",
       "      <td>Squirtle</td>\n",
       "      <td>Water</td>\n",
       "      <td>NaN</td>\n",
       "      <td>44</td>\n",
       "      <td>48</td>\n",
       "      <td>65</td>\n",
       "      <td>50</td>\n",
       "      <td>64</td>\n",
       "      <td>43</td>\n",
       "      <td>314</td>\n",
       "      <td>1</td>\n",
       "      <td>False</td>\n",
       "    </tr>\n",
       "  </tbody>\n",
       "</table>\n",
       "</div>"
      ],
      "text/plain": [
       "   #                       Name Type 1  Type 2  HP  Attack  Defense  Sp. Atk  \\\n",
       "0  1                  Bulbasaur  Grass  Poison  45      49       49       65   \n",
       "1  2                    Ivysaur  Grass  Poison  60      62       63       80   \n",
       "2  3                   Venusaur  Grass  Poison  80      82       83      100   \n",
       "3  3      VenusaurMega Venusaur  Grass  Poison  80     100      123      122   \n",
       "4  4                 Charmander   Fire     NaN  39      52       43       60   \n",
       "5  5                 Charmeleon   Fire     NaN  58      64       58       80   \n",
       "6  6                  Charizard   Fire  Flying  78      84       78      109   \n",
       "7  6  CharizardMega Charizard X   Fire  Dragon  78     130      111      130   \n",
       "8  6  CharizardMega Charizard Y   Fire  Flying  78     104       78      159   \n",
       "9  7                   Squirtle  Water     NaN  44      48       65       50   \n",
       "\n",
       "   Sp. Def  Speed  Total  Generation  Legendary  \n",
       "0       65     45    318           1      False  \n",
       "1       80     60    405           1      False  \n",
       "2      100     80    525           1      False  \n",
       "3      120     80    625           1      False  \n",
       "4       50     65    309           1      False  \n",
       "5       65     80    405           1      False  \n",
       "6       85    100    534           1      False  \n",
       "7       85    100    634           1      False  \n",
       "8      115    100    634           1      False  \n",
       "9       64     43    314           1      False  "
      ]
     },
     "execution_count": 27,
     "metadata": {},
     "output_type": "execute_result"
    }
   ],
   "source": [
    "not_legendary = poke_df.loc[poke_df['Legendary'] == False]\n",
    "not_legendary.head(10)"
   ]
  },
  {
   "cell_type": "code",
   "execution_count": 28,
   "id": "ed0e3ca6",
   "metadata": {},
   "outputs": [
    {
     "data": {
      "text/plain": [
       "(65, 735)"
      ]
     },
     "execution_count": 28,
     "metadata": {},
     "output_type": "execute_result"
    }
   ],
   "source": [
    "len(all_legendary), len(not_legendary)"
   ]
  },
  {
   "cell_type": "code",
   "execution_count": 29,
   "id": "e4875cf2",
   "metadata": {},
   "outputs": [
    {
     "data": {
      "text/html": [
       "<div>\n",
       "<style scoped>\n",
       "    .dataframe tbody tr th:only-of-type {\n",
       "        vertical-align: middle;\n",
       "    }\n",
       "\n",
       "    .dataframe tbody tr th {\n",
       "        vertical-align: top;\n",
       "    }\n",
       "\n",
       "    .dataframe thead th {\n",
       "        text-align: right;\n",
       "    }\n",
       "</style>\n",
       "<table border=\"1\" class=\"dataframe\">\n",
       "  <thead>\n",
       "    <tr style=\"text-align: right;\">\n",
       "      <th></th>\n",
       "      <th>#</th>\n",
       "      <th>Name</th>\n",
       "      <th>Type 1</th>\n",
       "      <th>Type 2</th>\n",
       "      <th>HP</th>\n",
       "      <th>Attack</th>\n",
       "      <th>Defense</th>\n",
       "      <th>Sp. Atk</th>\n",
       "      <th>Sp. Def</th>\n",
       "      <th>Speed</th>\n",
       "      <th>Total</th>\n",
       "      <th>Generation</th>\n",
       "      <th>Legendary</th>\n",
       "    </tr>\n",
       "  </thead>\n",
       "  <tbody>\n",
       "    <tr>\n",
       "      <th>163</th>\n",
       "      <td>150</td>\n",
       "      <td>MewtwoMega Mewtwo X</td>\n",
       "      <td>Psychic</td>\n",
       "      <td>Fighting</td>\n",
       "      <td>106</td>\n",
       "      <td>190</td>\n",
       "      <td>100</td>\n",
       "      <td>154</td>\n",
       "      <td>100</td>\n",
       "      <td>130</td>\n",
       "      <td>780</td>\n",
       "      <td>1</td>\n",
       "      <td>True</td>\n",
       "    </tr>\n",
       "    <tr>\n",
       "      <th>164</th>\n",
       "      <td>150</td>\n",
       "      <td>MewtwoMega Mewtwo Y</td>\n",
       "      <td>Psychic</td>\n",
       "      <td>NaN</td>\n",
       "      <td>106</td>\n",
       "      <td>150</td>\n",
       "      <td>70</td>\n",
       "      <td>194</td>\n",
       "      <td>120</td>\n",
       "      <td>140</td>\n",
       "      <td>780</td>\n",
       "      <td>1</td>\n",
       "      <td>True</td>\n",
       "    </tr>\n",
       "    <tr>\n",
       "      <th>426</th>\n",
       "      <td>384</td>\n",
       "      <td>RayquazaMega Rayquaza</td>\n",
       "      <td>Dragon</td>\n",
       "      <td>Flying</td>\n",
       "      <td>105</td>\n",
       "      <td>180</td>\n",
       "      <td>100</td>\n",
       "      <td>180</td>\n",
       "      <td>100</td>\n",
       "      <td>115</td>\n",
       "      <td>780</td>\n",
       "      <td>3</td>\n",
       "      <td>True</td>\n",
       "    </tr>\n",
       "    <tr>\n",
       "      <th>422</th>\n",
       "      <td>382</td>\n",
       "      <td>KyogrePrimal Kyogre</td>\n",
       "      <td>Water</td>\n",
       "      <td>NaN</td>\n",
       "      <td>100</td>\n",
       "      <td>150</td>\n",
       "      <td>90</td>\n",
       "      <td>180</td>\n",
       "      <td>160</td>\n",
       "      <td>90</td>\n",
       "      <td>770</td>\n",
       "      <td>3</td>\n",
       "      <td>True</td>\n",
       "    </tr>\n",
       "    <tr>\n",
       "      <th>424</th>\n",
       "      <td>383</td>\n",
       "      <td>GroudonPrimal Groudon</td>\n",
       "      <td>Ground</td>\n",
       "      <td>Fire</td>\n",
       "      <td>100</td>\n",
       "      <td>180</td>\n",
       "      <td>160</td>\n",
       "      <td>150</td>\n",
       "      <td>90</td>\n",
       "      <td>90</td>\n",
       "      <td>770</td>\n",
       "      <td>3</td>\n",
       "      <td>True</td>\n",
       "    </tr>\n",
       "  </tbody>\n",
       "</table>\n",
       "</div>"
      ],
      "text/plain": [
       "       #                   Name   Type 1    Type 2   HP  Attack  Defense  \\\n",
       "163  150    MewtwoMega Mewtwo X  Psychic  Fighting  106     190      100   \n",
       "164  150    MewtwoMega Mewtwo Y  Psychic       NaN  106     150       70   \n",
       "426  384  RayquazaMega Rayquaza   Dragon    Flying  105     180      100   \n",
       "422  382    KyogrePrimal Kyogre    Water       NaN  100     150       90   \n",
       "424  383  GroudonPrimal Groudon   Ground      Fire  100     180      160   \n",
       "\n",
       "     Sp. Atk  Sp. Def  Speed  Total  Generation  Legendary  \n",
       "163      154      100    130    780           1       True  \n",
       "164      194      120    140    780           1       True  \n",
       "426      180      100    115    780           3       True  \n",
       "422      180      160     90    770           3       True  \n",
       "424      150       90     90    770           3       True  "
      ]
     },
     "execution_count": 29,
     "metadata": {},
     "output_type": "execute_result"
    }
   ],
   "source": [
    "#looking up the top 3 attack pokemons and sorting by highest total\n",
    "all_legendary.sort_values('Total', ascending=False).head(5)\n"
   ]
  },
  {
   "cell_type": "code",
   "execution_count": 30,
   "id": "061fc8e8",
   "metadata": {},
   "outputs": [
    {
     "data": {
      "text/html": [
       "<div>\n",
       "<style scoped>\n",
       "    .dataframe tbody tr th:only-of-type {\n",
       "        vertical-align: middle;\n",
       "    }\n",
       "\n",
       "    .dataframe tbody tr th {\n",
       "        vertical-align: top;\n",
       "    }\n",
       "\n",
       "    .dataframe thead th {\n",
       "        text-align: right;\n",
       "    }\n",
       "</style>\n",
       "<table border=\"1\" class=\"dataframe\">\n",
       "  <thead>\n",
       "    <tr style=\"text-align: right;\">\n",
       "      <th></th>\n",
       "      <th>#</th>\n",
       "      <th>Name</th>\n",
       "      <th>Type 1</th>\n",
       "      <th>Type 2</th>\n",
       "      <th>HP</th>\n",
       "      <th>Attack</th>\n",
       "      <th>Defense</th>\n",
       "      <th>Sp. Atk</th>\n",
       "      <th>Sp. Def</th>\n",
       "      <th>Speed</th>\n",
       "      <th>Total</th>\n",
       "      <th>Generation</th>\n",
       "      <th>Legendary</th>\n",
       "    </tr>\n",
       "  </thead>\n",
       "  <tbody>\n",
       "    <tr>\n",
       "      <th>413</th>\n",
       "      <td>376</td>\n",
       "      <td>MetagrossMega Metagross</td>\n",
       "      <td>Steel</td>\n",
       "      <td>Psychic</td>\n",
       "      <td>80</td>\n",
       "      <td>145</td>\n",
       "      <td>150</td>\n",
       "      <td>105</td>\n",
       "      <td>110</td>\n",
       "      <td>110</td>\n",
       "      <td>700</td>\n",
       "      <td>3</td>\n",
       "      <td>False</td>\n",
       "    </tr>\n",
       "    <tr>\n",
       "      <th>494</th>\n",
       "      <td>445</td>\n",
       "      <td>GarchompMega Garchomp</td>\n",
       "      <td>Dragon</td>\n",
       "      <td>Ground</td>\n",
       "      <td>108</td>\n",
       "      <td>170</td>\n",
       "      <td>115</td>\n",
       "      <td>120</td>\n",
       "      <td>95</td>\n",
       "      <td>92</td>\n",
       "      <td>700</td>\n",
       "      <td>4</td>\n",
       "      <td>False</td>\n",
       "    </tr>\n",
       "    <tr>\n",
       "      <th>409</th>\n",
       "      <td>373</td>\n",
       "      <td>SalamenceMega Salamence</td>\n",
       "      <td>Dragon</td>\n",
       "      <td>Flying</td>\n",
       "      <td>95</td>\n",
       "      <td>145</td>\n",
       "      <td>130</td>\n",
       "      <td>120</td>\n",
       "      <td>90</td>\n",
       "      <td>120</td>\n",
       "      <td>700</td>\n",
       "      <td>3</td>\n",
       "      <td>False</td>\n",
       "    </tr>\n",
       "    <tr>\n",
       "      <th>268</th>\n",
       "      <td>248</td>\n",
       "      <td>TyranitarMega Tyranitar</td>\n",
       "      <td>Rock</td>\n",
       "      <td>Dark</td>\n",
       "      <td>100</td>\n",
       "      <td>164</td>\n",
       "      <td>150</td>\n",
       "      <td>95</td>\n",
       "      <td>120</td>\n",
       "      <td>71</td>\n",
       "      <td>700</td>\n",
       "      <td>2</td>\n",
       "      <td>False</td>\n",
       "    </tr>\n",
       "    <tr>\n",
       "      <th>313</th>\n",
       "      <td>289</td>\n",
       "      <td>Slaking</td>\n",
       "      <td>Normal</td>\n",
       "      <td>NaN</td>\n",
       "      <td>150</td>\n",
       "      <td>160</td>\n",
       "      <td>100</td>\n",
       "      <td>95</td>\n",
       "      <td>65</td>\n",
       "      <td>100</td>\n",
       "      <td>670</td>\n",
       "      <td>3</td>\n",
       "      <td>False</td>\n",
       "    </tr>\n",
       "  </tbody>\n",
       "</table>\n",
       "</div>"
      ],
      "text/plain": [
       "       #                     Name  Type 1   Type 2   HP  Attack  Defense  \\\n",
       "413  376  MetagrossMega Metagross   Steel  Psychic   80     145      150   \n",
       "494  445    GarchompMega Garchomp  Dragon   Ground  108     170      115   \n",
       "409  373  SalamenceMega Salamence  Dragon   Flying   95     145      130   \n",
       "268  248  TyranitarMega Tyranitar    Rock     Dark  100     164      150   \n",
       "313  289                  Slaking  Normal      NaN  150     160      100   \n",
       "\n",
       "     Sp. Atk  Sp. Def  Speed  Total  Generation  Legendary  \n",
       "413      105      110    110    700           3      False  \n",
       "494      120       95     92    700           4      False  \n",
       "409      120       90    120    700           3      False  \n",
       "268       95      120     71    700           2      False  \n",
       "313       95       65    100    670           3      False  "
      ]
     },
     "execution_count": 30,
     "metadata": {},
     "output_type": "execute_result"
    }
   ],
   "source": [
    "#The same for the non legenaries\n",
    "not_legendary.sort_values('Total', ascending=False).head(5)\n"
   ]
  },
  {
   "cell_type": "code",
   "execution_count": 31,
   "id": "884076b5",
   "metadata": {},
   "outputs": [
    {
     "data": {
      "text/plain": [
       "(Attack     116.676923\n",
       " Defense     99.661538\n",
       " HP          92.738462\n",
       " dtype: float64,\n",
       " 65)"
      ]
     },
     "execution_count": 31,
     "metadata": {},
     "output_type": "execute_result"
    }
   ],
   "source": [
    "all_legendary[['Attack', 'Defense', 'HP']].mean(), len(all_legendary)"
   ]
  },
  {
   "cell_type": "code",
   "execution_count": 32,
   "id": "592e009b",
   "metadata": {},
   "outputs": [
    {
     "data": {
      "text/plain": [
       "(Attack     75.669388\n",
       " Defense    71.559184\n",
       " HP         67.182313\n",
       " dtype: float64,\n",
       " 735)"
      ]
     },
     "execution_count": 32,
     "metadata": {},
     "output_type": "execute_result"
    }
   ],
   "source": [
    "not_legendary[['Attack', 'Defense', 'HP']].mean(), len(not_legendary)"
   ]
  },
  {
   "cell_type": "markdown",
   "id": "d29e7783",
   "metadata": {},
   "source": [
    "### Ploting the differences between legendaries and not legendaries "
   ]
  },
  {
   "cell_type": "markdown",
   "id": "d133cfdc",
   "metadata": {},
   "source": [
    "Destribution of attack and defense points from legendaries and not legendaries pokemons.\n",
    "Is there a significant improvement in the attack/defense between legendaries and non legendaries?"
   ]
  },
  {
   "cell_type": "code",
   "execution_count": 33,
   "id": "b54676c8",
   "metadata": {
    "scrolled": true
   },
   "outputs": [
    {
     "data": {
      "image/png": "[encoded data removed]",
      "text/plain": [
       "<Figure size 864x432 with 1 Axes>"
      ]
     },
     "metadata": {
      "needs_background": "light"
     },
     "output_type": "display_data"
    }
   ],
   "source": [
    "plt.figure(figsize=(12,6))\n",
    "plt.title(\"Relation Between Defense And Attack On Legendary And Not Legendary Pokemons\")\n",
    "plt.xlabel('Attack Points')\n",
    "plt.ylabel('Defense Points')\n",
    "\n",
    "sns.scatterplot(x=poke_df['Attack'], y=poke_df['Defense'], hue=poke_df['Legendary'], s=100);"
   ]
  },
  {
   "cell_type": "markdown",
   "id": "03ae3587",
   "metadata": {},
   "source": [
    "It doesn't seem to be legendaries below 50 points of attack and 100 points of defense, but beyond those number the legendary pokemons seem to be spread not much diffently from the non legendaries."
   ]
  },
  {
   "cell_type": "markdown",
   "id": "1781e973",
   "metadata": {},
   "source": [
    "### Relation between attack and defense (legendary)."
   ]
  },
  {
   "cell_type": "markdown",
   "id": "7a7ae5ac",
   "metadata": {},
   "source": [
    "Relation between attack and defense on legendaries.\n",
    "Unfortunately there are only 65 different legendary pokemon to be analyzed,"
   ]
  },
  {
   "cell_type": "code",
   "execution_count": 34,
   "id": "47b7f5c3",
   "metadata": {},
   "outputs": [],
   "source": [
    "all_legendary = all_legendary.sort_values('Attack', ascending=False)"
   ]
  },
  {
   "cell_type": "code",
   "execution_count": 35,
   "id": "42ca9e15",
   "metadata": {
    "scrolled": true
   },
   "outputs": [
    {
     "data": {
      "image/png": "[encoded data removed]",
      "text/plain": [
       "<Figure size 648x360 with 1 Axes>"
      ]
     },
     "metadata": {
      "needs_background": "light"
     },
     "output_type": "display_data"
    }
   ],
   "source": [
    "plt.title('Relation Between Attack And Defense On Legendary')\n",
    "plt.xlabel('Attack Points')\n",
    "plt.ylabel('Defense Points')\n",
    "plt.bar(all_legendary.Attack, all_legendary.Defense);"
   ]
  },
  {
   "cell_type": "markdown",
   "id": "dfe744bc",
   "metadata": {},
   "source": [
    "### Relation between attack and defense (common).\n"
   ]
  },
  {
   "cell_type": "markdown",
   "id": "ed68b29c",
   "metadata": {},
   "source": [
    "Relation between attack and defense on not legendaries"
   ]
  },
  {
   "cell_type": "code",
   "execution_count": 36,
   "id": "2337ef75",
   "metadata": {},
   "outputs": [
    {
     "data": {
      "image/png": "[encoded data removed]",
      "text/plain": [
       "<Figure size 864x432 with 1 Axes>"
      ]
     },
     "metadata": {
      "needs_background": "light"
     },
     "output_type": "display_data"
    }
   ],
   "source": [
    "plt.figure(figsize=(12,6))\n",
    "plt.title('Relation Between Attack And Defense On Not Legendary')\n",
    "plt.xlabel('Attack Points')\n",
    "plt.ylabel('Defense Points')\n",
    "plt.bar(not_legendary.Attack, not_legendary.Defense);"
   ]
  },
  {
   "cell_type": "markdown",
   "id": "f39a3002",
   "metadata": {},
   "source": [
    "### Types distribution "
   ]
  },
  {
   "cell_type": "markdown",
   "id": "1074c5e3",
   "metadata": {},
   "source": [
    "Each types has the highest attacks!\n"
   ]
  },
  {
   "cell_type": "code",
   "execution_count": 37,
   "id": "26b41b98",
   "metadata": {},
   "outputs": [
    {
     "data": {
      "image/png": "[encoded data removed]",
      "text/plain": [
       "<Figure size 864x432 with 1 Axes>"
      ]
     },
     "metadata": {
      "needs_background": "light"
     },
     "output_type": "display_data"
    }
   ],
   "source": [
    "plt.figure(figsize=(12,6))\n",
    "plt.title(\"Type 1 Attack Points\")\n",
    "sns.barplot(x='Attack', y='Type 1', hue='Legendary', data=poke_df);"
   ]
  },
  {
   "cell_type": "markdown",
   "id": "5d1e4af2",
   "metadata": {},
   "source": [
    "### Destribution of attack values between each type"
   ]
  },
  {
   "cell_type": "markdown",
   "id": "295bab7d",
   "metadata": {},
   "source": [
    "Destribution of attack points within the types, and the diffence if legendary.\n"
   ]
  },
  {
   "cell_type": "code",
   "execution_count": 38,
   "id": "681a445d",
   "metadata": {},
   "outputs": [
    {
     "data": {
      "image/png": "[encoded data removed]",
      "text/plain": [
       "<Figure size 864x432 with 1 Axes>"
      ]
     },
     "metadata": {
      "needs_background": "light"
     },
     "output_type": "display_data"
    }
   ],
   "source": [
    "plt.figure(figsize=(12,6))\n",
    "plt.title(\"Total Values And Types Between All Pokemons\")\n",
    "sns.barplot(x='Total', y='Type 1', hue='Legendary', data=poke_df);"
   ]
  },
  {
   "cell_type": "markdown",
   "id": "97aac68c",
   "metadata": {},
   "source": [
    "### Destribution of defense values between each type"
   ]
  },
  {
   "cell_type": "markdown",
   "id": "d62b3f36",
   "metadata": {},
   "source": [
    "Destribution of defense points within the types, and the diffence if legendary.\n"
   ]
  },
  {
   "cell_type": "code",
   "execution_count": 39,
   "id": "ac1e339c",
   "metadata": {},
   "outputs": [
    {
     "data": {
      "image/png": "[encoded data removed]",
      "text/plain": [
       "<Figure size 864x432 with 1 Axes>"
      ]
     },
     "metadata": {
      "needs_background": "light"
     },
     "output_type": "display_data"
    }
   ],
   "source": [
    "plt.figure(figsize=(12,6))\n",
    "plt.title(\"Defense Values And Types Between All Pokemons\")\n",
    "sns.barplot(x='Defense', y='Type 1', hue='Legendary', data=poke_df);"
   ]
  },
  {
   "cell_type": "markdown",
   "id": "141388ac",
   "metadata": {},
   "source": [
    "### Each types has the highest total within the legendaries.\n"
   ]
  },
  {
   "cell_type": "code",
   "execution_count": 40,
   "id": "daf2801d",
   "metadata": {},
   "outputs": [
    {
     "data": {
      "image/png": "[encoded data removed]",
      "text/plain": [
       "<Figure size 864x432 with 1 Axes>"
      ]
     },
     "metadata": {
      "needs_background": "light"
     },
     "output_type": "display_data"
    }
   ],
   "source": [
    "plt.figure(figsize=(12,6))\n",
    "plt.title(\"Total Values And Types Between Legendary Pokemons\")\n",
    "sns.barplot(x='Total', y='Type 1', data=all_legendary);"
   ]
  },
  {
   "cell_type": "markdown",
   "id": "2acd748e",
   "metadata": {},
   "source": [
    "### Destribution of total values within types for non legendaries.\n"
   ]
  },
  {
   "cell_type": "code",
   "execution_count": 41,
   "id": "a28be8bd",
   "metadata": {},
   "outputs": [
    {
     "data": {
      "image/png": "[encoded data removed]",
      "text/plain": [
       "<Figure size 864x432 with 1 Axes>"
      ]
     },
     "metadata": {
      "needs_background": "light"
     },
     "output_type": "display_data"
    }
   ],
   "source": [
    "plt.figure(figsize=(12,6))\n",
    "plt.title(\"Total Values And Types Between Not Legendary Pokemons\")\n",
    "sns.barplot(x='Total', y='Type 1', data=not_legendary);"
   ]
  },
  {
   "cell_type": "markdown",
   "id": "3126af5c",
   "metadata": {},
   "source": [
    "## Asking and Answering Questions\n",
    "\n",
    "I'll be exploring a bit within type 1 and type 2 pokemons, and their value distributions.\n",
    "Also if the newest generations have better stats!\n"
   ]
  },
  {
   "cell_type": "markdown",
   "id": "a4aecf9c",
   "metadata": {},
   "source": [
    "#### Q1: Each types 2 within all dragon type 1 has the highest total values?"
   ]
  },
  {
   "cell_type": "code",
   "execution_count": 42,
   "id": "8f73882f",
   "metadata": {},
   "outputs": [
    {
     "data": {
      "image/png": "[encoded data removed]",
      "text/plain": [
       "<Figure size 864x432 with 1 Axes>"
      ]
     },
     "metadata": {
      "needs_background": "light"
     },
     "output_type": "display_data"
    }
   ],
   "source": [
    "plt.figure(figsize=(12,6))\n",
    "plt.title(\"Total Values Between Dragon Types\")\n",
    "sns.barplot(x='Total', y='Type 2', data=all_dragon_type);"
   ]
  },
  {
   "cell_type": "markdown",
   "id": "373d65b8",
   "metadata": {},
   "source": [
    "Dragon type 1 and Ice type 2 has the highest total value!"
   ]
  },
  {
   "cell_type": "markdown",
   "id": "b34ab3cd",
   "metadata": {},
   "source": [
    "#### Generation Relation\n",
    "\n",
    "Does the generation of legendary dragon pokemon correlate with its total value?"
   ]
  },
  {
   "cell_type": "code",
   "execution_count": 43,
   "id": "3e7f3ac5",
   "metadata": {},
   "outputs": [
    {
     "data": {
      "image/png": "[encoded data removed]",
      "text/plain": [
       "<Figure size 864x432 with 1 Axes>"
      ]
     },
     "metadata": {
      "needs_background": "light"
     },
     "output_type": "display_data"
    }
   ],
   "source": [
    "plt.figure(figsize=(12,6))\n",
    "plt.title(\"Total Values Between Legendary Dragon Types\")\n",
    "sns.barplot(x='Total', y='Generation', data=dragon_legendary);"
   ]
  },
  {
   "cell_type": "markdown",
   "id": "e7c33539",
   "metadata": {},
   "source": [
    "It seems that the 4th and 3rd generations has higher total values!"
   ]
  },
  {
   "cell_type": "code",
   "execution_count": 44,
   "id": "e986474d",
   "metadata": {},
   "outputs": [
    {
     "data": {
      "image/png": "[encoded data removed]",
      "text/plain": [
       "<Figure size 864x432 with 1 Axes>"
      ]
     },
     "metadata": {
      "needs_background": "light"
     },
     "output_type": "display_data"
    }
   ],
   "source": [
    "plt.figure(figsize=(12,6))\n",
    "plt.title(\"Total Values Between All Dragon Types\")\n",
    "sns.barplot(x='Total', y='Generation', data=all_dragon_type);"
   ]
  },
  {
   "cell_type": "markdown",
   "id": "46e375f3",
   "metadata": {},
   "source": [
    "It appears the same within non legendaries type."
   ]
  },
  {
   "cell_type": "markdown",
   "id": "362211d8",
   "metadata": {},
   "source": [
    "#### Q2: Each types 2 within all ground type 1 has the highest total values?"
   ]
  },
  {
   "cell_type": "code",
   "execution_count": 45,
   "id": "d88ccc17",
   "metadata": {},
   "outputs": [
    {
     "data": {
      "image/png": "[encoded data removed]",
      "text/plain": [
       "<Figure size 864x432 with 1 Axes>"
      ]
     },
     "metadata": {
      "needs_background": "light"
     },
     "output_type": "display_data"
    }
   ],
   "source": [
    "plt.figure(figsize=(12,6))\n",
    "plt.title(\"Total Values Between All Ground Types\")\n",
    "sns.barplot(x='Total', y='Type 2', data=all_ground_type);"
   ]
  },
  {
   "cell_type": "markdown",
   "id": "d42c22df",
   "metadata": {},
   "source": [
    "Fire is the best type 2 for ground types 1."
   ]
  },
  {
   "cell_type": "markdown",
   "id": "38784c53",
   "metadata": {},
   "source": [
    "#### Generation relation\n",
    "Does the generation of legendary ground pokemon correlate with its total value?"
   ]
  },
  {
   "cell_type": "code",
   "execution_count": 46,
   "id": "856c4e07",
   "metadata": {},
   "outputs": [
    {
     "data": {
      "image/png": "[encoded data removed]",
      "text/plain": [
       "<Figure size 864x432 with 1 Axes>"
      ]
     },
     "metadata": {
      "needs_background": "light"
     },
     "output_type": "display_data"
    }
   ],
   "source": [
    "plt.figure(figsize=(12,6))\n",
    "plt.title(\"Total Values Between Legendary Ground Types\")\n",
    "sns.barplot(x='Total', y='Generation', data=ground_legendary);"
   ]
  },
  {
   "cell_type": "markdown",
   "id": "4c9f3960",
   "metadata": {},
   "source": [
    "This time generation 3 has the best stats, different from dragon, in wich the best stats are also within generation 4.\n",
    "#### What about all ground types?"
   ]
  },
  {
   "cell_type": "code",
   "execution_count": 47,
   "id": "c8ccb531",
   "metadata": {},
   "outputs": [
    {
     "data": {
      "image/png": "[encoded data removed]",
      "text/plain": [
       "<Figure size 864x432 with 1 Axes>"
      ]
     },
     "metadata": {
      "needs_background": "light"
     },
     "output_type": "display_data"
    }
   ],
   "source": [
    "plt.figure(figsize=(12,6))\n",
    "plt.title(\"Total Values Between All Ground Types\")\n",
    "sns.barplot(x='Total', y='Generation', data=all_ground_type);"
   ]
  },
  {
   "cell_type": "markdown",
   "id": "5fb593e7",
   "metadata": {},
   "source": [
    "The highest stats also seem to be best at the 3rd and 4th gens."
   ]
  },
  {
   "cell_type": "markdown",
   "id": "a0832251",
   "metadata": {},
   "source": [
    "#### Q3: Each types 2 within all ghost type 1 has the highest total values?"
   ]
  },
  {
   "cell_type": "code",
   "execution_count": 48,
   "id": "d16f61d7",
   "metadata": {},
   "outputs": [
    {
     "data": {
      "image/png": "[encoded data removed]",
      "text/plain": [
       "<Figure size 864x432 with 1 Axes>"
      ]
     },
     "metadata": {
      "needs_background": "light"
     },
     "output_type": "display_data"
    }
   ],
   "source": [
    "plt.figure(figsize=(12,6))\n",
    "plt.title(\"Total Values Between All Ghost Types\")\n",
    "sns.barplot(x='Total', y='Type 2', data=all_ghost_type);"
   ]
  },
  {
   "cell_type": "markdown",
   "id": "4d7afd1a",
   "metadata": {},
   "source": [
    "#### Generation Relation\n",
    "Does the generation of legendary ghost pokemon correlate with its total value?"
   ]
  },
  {
   "cell_type": "code",
   "execution_count": 49,
   "id": "9bac8c17",
   "metadata": {},
   "outputs": [
    {
     "data": {
      "image/png": "[encoded data removed]",
      "text/plain": [
       "<Figure size 864x432 with 1 Axes>"
      ]
     },
     "metadata": {
      "needs_background": "light"
     },
     "output_type": "display_data"
    }
   ],
   "source": [
    "plt.figure(figsize=(12,6))\n",
    "plt.title(\"Total Values Between Legendary Ghost Types\")\n",
    "sns.barplot(x='Total', y='Generation', data=ghost_legendary);"
   ]
  },
  {
   "cell_type": "markdown",
   "id": "a476fc01",
   "metadata": {},
   "source": [
    "Theres only 2 legendary Ghost type, both belonging to the 4th generation."
   ]
  },
  {
   "cell_type": "code",
   "execution_count": 50,
   "id": "71a224fb",
   "metadata": {},
   "outputs": [
    {
     "data": {
      "text/html": [
       "<div>\n",
       "<style scoped>\n",
       "    .dataframe tbody tr th:only-of-type {\n",
       "        vertical-align: middle;\n",
       "    }\n",
       "\n",
       "    .dataframe tbody tr th {\n",
       "        vertical-align: top;\n",
       "    }\n",
       "\n",
       "    .dataframe thead th {\n",
       "        text-align: right;\n",
       "    }\n",
       "</style>\n",
       "<table border=\"1\" class=\"dataframe\">\n",
       "  <thead>\n",
       "    <tr style=\"text-align: right;\">\n",
       "      <th></th>\n",
       "      <th>#</th>\n",
       "      <th>Name</th>\n",
       "      <th>Type 1</th>\n",
       "      <th>Type 2</th>\n",
       "      <th>HP</th>\n",
       "      <th>Attack</th>\n",
       "      <th>Defense</th>\n",
       "      <th>Sp. Atk</th>\n",
       "      <th>Sp. Def</th>\n",
       "      <th>Speed</th>\n",
       "      <th>Total</th>\n",
       "      <th>Generation</th>\n",
       "      <th>Legendary</th>\n",
       "    </tr>\n",
       "  </thead>\n",
       "  <tbody>\n",
       "    <tr>\n",
       "      <th>15</th>\n",
       "      <td>487</td>\n",
       "      <td>GiratinaAltered Forme</td>\n",
       "      <td>Ghost</td>\n",
       "      <td>Dragon</td>\n",
       "      <td>150</td>\n",
       "      <td>100</td>\n",
       "      <td>120</td>\n",
       "      <td>100</td>\n",
       "      <td>120</td>\n",
       "      <td>90</td>\n",
       "      <td>680</td>\n",
       "      <td>4</td>\n",
       "      <td>True</td>\n",
       "    </tr>\n",
       "    <tr>\n",
       "      <th>16</th>\n",
       "      <td>487</td>\n",
       "      <td>GiratinaOrigin Forme</td>\n",
       "      <td>Ghost</td>\n",
       "      <td>Dragon</td>\n",
       "      <td>150</td>\n",
       "      <td>120</td>\n",
       "      <td>100</td>\n",
       "      <td>120</td>\n",
       "      <td>100</td>\n",
       "      <td>90</td>\n",
       "      <td>680</td>\n",
       "      <td>4</td>\n",
       "      <td>True</td>\n",
       "    </tr>\n",
       "  </tbody>\n",
       "</table>\n",
       "</div>"
      ],
      "text/plain": [
       "      #                   Name Type 1  Type 2   HP  Attack  Defense  Sp. Atk  \\\n",
       "15  487  GiratinaAltered Forme  Ghost  Dragon  150     100      120      100   \n",
       "16  487   GiratinaOrigin Forme  Ghost  Dragon  150     120      100      120   \n",
       "\n",
       "    Sp. Def  Speed  Total  Generation  Legendary  \n",
       "15      120     90    680           4       True  \n",
       "16      100     90    680           4       True  "
      ]
     },
     "execution_count": 50,
     "metadata": {},
     "output_type": "execute_result"
    }
   ],
   "source": [
    "ghost_legendary.head()"
   ]
  },
  {
   "cell_type": "markdown",
   "id": "2a22b2b6",
   "metadata": {},
   "source": [
    "#### What about all ghost types?"
   ]
  },
  {
   "cell_type": "code",
   "execution_count": 51,
   "id": "8f8c3254",
   "metadata": {},
   "outputs": [
    {
     "data": {
      "image/png": "[encoded data removed]",
      "text/plain": [
       "<Figure size 864x432 with 1 Axes>"
      ]
     },
     "metadata": {
      "needs_background": "light"
     },
     "output_type": "display_data"
    }
   ],
   "source": [
    "plt.figure(figsize=(12,6))\n",
    "plt.title(\"Total Values Between All Ghost Types\")\n",
    "sns.barplot(x='Total', y='Generation', data=all_ghost_type);"
   ]
  },
  {
   "cell_type": "markdown",
   "id": "4ad3d161",
   "metadata": {},
   "source": [
    "The highest total values are all well distribuited between all generation, 4th containing the highest."
   ]
  },
  {
   "cell_type": "markdown",
   "id": "05e3c3f8",
   "metadata": {},
   "source": [
    "#### Q5: Each types 2 within all fighting type 1 has the highest total values?"
   ]
  },
  {
   "cell_type": "code",
   "execution_count": 52,
   "id": "90eb9d6c",
   "metadata": {},
   "outputs": [
    {
     "data": {
      "text/html": [
       "<div>\n",
       "<style scoped>\n",
       "    .dataframe tbody tr th:only-of-type {\n",
       "        vertical-align: middle;\n",
       "    }\n",
       "\n",
       "    .dataframe tbody tr th {\n",
       "        vertical-align: top;\n",
       "    }\n",
       "\n",
       "    .dataframe thead th {\n",
       "        text-align: right;\n",
       "    }\n",
       "</style>\n",
       "<table border=\"1\" class=\"dataframe\">\n",
       "  <thead>\n",
       "    <tr style=\"text-align: right;\">\n",
       "      <th></th>\n",
       "      <th>#</th>\n",
       "      <th>Name</th>\n",
       "      <th>Type 1</th>\n",
       "      <th>Type 2</th>\n",
       "      <th>HP</th>\n",
       "      <th>Attack</th>\n",
       "      <th>Defense</th>\n",
       "      <th>Sp. Atk</th>\n",
       "      <th>Sp. Def</th>\n",
       "      <th>Speed</th>\n",
       "      <th>Total</th>\n",
       "      <th>Generation</th>\n",
       "      <th>Legendary</th>\n",
       "    </tr>\n",
       "  </thead>\n",
       "  <tbody>\n",
       "    <tr>\n",
       "      <th>61</th>\n",
       "      <td>56</td>\n",
       "      <td>Mankey</td>\n",
       "      <td>Fighting</td>\n",
       "      <td>NaN</td>\n",
       "      <td>40</td>\n",
       "      <td>80</td>\n",
       "      <td>35</td>\n",
       "      <td>35</td>\n",
       "      <td>45</td>\n",
       "      <td>70</td>\n",
       "      <td>305</td>\n",
       "      <td>1</td>\n",
       "      <td>False</td>\n",
       "    </tr>\n",
       "    <tr>\n",
       "      <th>62</th>\n",
       "      <td>57</td>\n",
       "      <td>Primeape</td>\n",
       "      <td>Fighting</td>\n",
       "      <td>NaN</td>\n",
       "      <td>65</td>\n",
       "      <td>105</td>\n",
       "      <td>60</td>\n",
       "      <td>60</td>\n",
       "      <td>70</td>\n",
       "      <td>95</td>\n",
       "      <td>455</td>\n",
       "      <td>1</td>\n",
       "      <td>False</td>\n",
       "    </tr>\n",
       "    <tr>\n",
       "      <th>72</th>\n",
       "      <td>66</td>\n",
       "      <td>Machop</td>\n",
       "      <td>Fighting</td>\n",
       "      <td>NaN</td>\n",
       "      <td>70</td>\n",
       "      <td>80</td>\n",
       "      <td>50</td>\n",
       "      <td>35</td>\n",
       "      <td>35</td>\n",
       "      <td>35</td>\n",
       "      <td>305</td>\n",
       "      <td>1</td>\n",
       "      <td>False</td>\n",
       "    </tr>\n",
       "    <tr>\n",
       "      <th>73</th>\n",
       "      <td>67</td>\n",
       "      <td>Machoke</td>\n",
       "      <td>Fighting</td>\n",
       "      <td>NaN</td>\n",
       "      <td>80</td>\n",
       "      <td>100</td>\n",
       "      <td>70</td>\n",
       "      <td>50</td>\n",
       "      <td>60</td>\n",
       "      <td>45</td>\n",
       "      <td>405</td>\n",
       "      <td>1</td>\n",
       "      <td>False</td>\n",
       "    </tr>\n",
       "    <tr>\n",
       "      <th>74</th>\n",
       "      <td>68</td>\n",
       "      <td>Machamp</td>\n",
       "      <td>Fighting</td>\n",
       "      <td>NaN</td>\n",
       "      <td>90</td>\n",
       "      <td>130</td>\n",
       "      <td>80</td>\n",
       "      <td>65</td>\n",
       "      <td>85</td>\n",
       "      <td>55</td>\n",
       "      <td>505</td>\n",
       "      <td>1</td>\n",
       "      <td>False</td>\n",
       "    </tr>\n",
       "  </tbody>\n",
       "</table>\n",
       "</div>"
      ],
      "text/plain": [
       "     #      Name    Type 1 Type 2  HP  Attack  Defense  Sp. Atk  Sp. Def  \\\n",
       "61  56    Mankey  Fighting    NaN  40      80       35       35       45   \n",
       "62  57  Primeape  Fighting    NaN  65     105       60       60       70   \n",
       "72  66    Machop  Fighting    NaN  70      80       50       35       35   \n",
       "73  67   Machoke  Fighting    NaN  80     100       70       50       60   \n",
       "74  68   Machamp  Fighting    NaN  90     130       80       65       85   \n",
       "\n",
       "    Speed  Total  Generation  Legendary  \n",
       "61     70    305           1      False  \n",
       "62     95    455           1      False  \n",
       "72     35    305           1      False  \n",
       "73     45    405           1      False  \n",
       "74     55    505           1      False  "
      ]
     },
     "execution_count": 52,
     "metadata": {},
     "output_type": "execute_result"
    }
   ],
   "source": [
    "all_fighting_type = poke_df.loc[poke_df['Type 1'] == 'Fighting']\n",
    "fighting_legendary = all_fighting_type.loc[all_fighting_type['Legendary'] == True]\n",
    "all_fighting_type.head(5)"
   ]
  },
  {
   "cell_type": "code",
   "execution_count": 53,
   "id": "4907c770",
   "metadata": {},
   "outputs": [
    {
     "data": {
      "image/png": "[encoded data removed]",
      "text/plain": [
       "<Figure size 864x432 with 1 Axes>"
      ]
     },
     "metadata": {
      "needs_background": "light"
     },
     "output_type": "display_data"
    }
   ],
   "source": [
    "plt.figure(figsize=(12,6))\n",
    "plt.title(\"Total Values Between Fighting Types\")\n",
    "sns.barplot(x='Total', y='Type 2', data=all_fighting_type);"
   ]
  },
  {
   "cell_type": "markdown",
   "id": "d0ce3e0e",
   "metadata": {},
   "source": [
    "Fighting type 1 and steel type 2 seems to be the best combination for non legendaries.\n",
    "#### What about legendaries fighting type 1?"
   ]
  },
  {
   "cell_type": "code",
   "execution_count": 54,
   "id": "52ffc38f",
   "metadata": {},
   "outputs": [
    {
     "data": {
      "text/plain": [
       "0"
      ]
     },
     "execution_count": 54,
     "metadata": {},
     "output_type": "execute_result"
    }
   ],
   "source": [
    "len(fighting_legendary)\n",
    "#plt.figure(figsize=(12,6))\n",
    "#plt.title(\"Total Values Between Legendary Fighting Types\")\n",
    "#sns.barplot(x='Total', y='Type 2', data=fighting_legendary);"
   ]
  },
  {
   "cell_type": "markdown",
   "id": "e902ed59",
   "metadata": {},
   "source": [
    "There is no legendary fighting types.\n",
    "\n",
    "#### Generation distribuiton within fighting types."
   ]
  },
  {
   "cell_type": "code",
   "execution_count": 55,
   "id": "b063be38",
   "metadata": {},
   "outputs": [
    {
     "data": {
      "image/png": "[encoded data removed]",
      "text/plain": [
       "<Figure size 1440x432 with 1 Axes>"
      ]
     },
     "metadata": {
      "needs_background": "light"
     },
     "output_type": "display_data"
    }
   ],
   "source": [
    "plt.figure(figsize=(20,6))\n",
    "plt.title(\"Total Values Between Generation Within Fighting Types\")\n",
    "sns.barplot(x='Total', y='Generation', data=all_fighting_type);"
   ]
  },
  {
   "cell_type": "markdown",
   "id": "8af5dc58",
   "metadata": {},
   "source": [
    "The best total values within the fighting type 1 are distributed mostly between the 4th and 6th generation, 4th containing the 3 highest ones."
   ]
  },
  {
   "cell_type": "markdown",
   "id": "4bdfc8e0",
   "metadata": {},
   "source": [
    "## Inferences and Conclusion\n",
    "\n",
    "The main focus of this particular data analysis was to visualize if there was a consireable difference between legendaries types and non legendaries ones, and its generation distribution.\n",
    "\n",
    "It is possible to see from the first cluster plot that most legendaries are found to be within a high rage of total values (the sum of attack, defense, attack speed, defense speed, speed points), but there is a close number of \"regular\" pokemons not far behind.\n",
    "\n",
    "But legendary pokemons still take most of the top 20, being that theres only 65 of them."
   ]
  },
  {
   "cell_type": "code",
   "execution_count": 56,
   "id": "82686bce",
   "metadata": {},
   "outputs": [
    {
     "data": {
      "text/html": [
       "<div>\n",
       "<style scoped>\n",
       "    .dataframe tbody tr th:only-of-type {\n",
       "        vertical-align: middle;\n",
       "    }\n",
       "\n",
       "    .dataframe tbody tr th {\n",
       "        vertical-align: top;\n",
       "    }\n",
       "\n",
       "    .dataframe thead th {\n",
       "        text-align: right;\n",
       "    }\n",
       "</style>\n",
       "<table border=\"1\" class=\"dataframe\">\n",
       "  <thead>\n",
       "    <tr style=\"text-align: right;\">\n",
       "      <th></th>\n",
       "      <th>#</th>\n",
       "      <th>Name</th>\n",
       "      <th>Type 1</th>\n",
       "      <th>Type 2</th>\n",
       "      <th>HP</th>\n",
       "      <th>Attack</th>\n",
       "      <th>Defense</th>\n",
       "      <th>Sp. Atk</th>\n",
       "      <th>Sp. Def</th>\n",
       "      <th>Speed</th>\n",
       "      <th>Total</th>\n",
       "      <th>Generation</th>\n",
       "      <th>Legendary</th>\n",
       "    </tr>\n",
       "  </thead>\n",
       "  <tbody>\n",
       "    <tr>\n",
       "      <th>426</th>\n",
       "      <td>384</td>\n",
       "      <td>RayquazaMega Rayquaza</td>\n",
       "      <td>Dragon</td>\n",
       "      <td>Flying</td>\n",
       "      <td>105</td>\n",
       "      <td>180</td>\n",
       "      <td>100</td>\n",
       "      <td>180</td>\n",
       "      <td>100</td>\n",
       "      <td>115</td>\n",
       "      <td>780</td>\n",
       "      <td>3</td>\n",
       "      <td>True</td>\n",
       "    </tr>\n",
       "    <tr>\n",
       "      <th>164</th>\n",
       "      <td>150</td>\n",
       "      <td>MewtwoMega Mewtwo Y</td>\n",
       "      <td>Psychic</td>\n",
       "      <td>NaN</td>\n",
       "      <td>106</td>\n",
       "      <td>150</td>\n",
       "      <td>70</td>\n",
       "      <td>194</td>\n",
       "      <td>120</td>\n",
       "      <td>140</td>\n",
       "      <td>780</td>\n",
       "      <td>1</td>\n",
       "      <td>True</td>\n",
       "    </tr>\n",
       "    <tr>\n",
       "      <th>163</th>\n",
       "      <td>150</td>\n",
       "      <td>MewtwoMega Mewtwo X</td>\n",
       "      <td>Psychic</td>\n",
       "      <td>Fighting</td>\n",
       "      <td>106</td>\n",
       "      <td>190</td>\n",
       "      <td>100</td>\n",
       "      <td>154</td>\n",
       "      <td>100</td>\n",
       "      <td>130</td>\n",
       "      <td>780</td>\n",
       "      <td>1</td>\n",
       "      <td>True</td>\n",
       "    </tr>\n",
       "    <tr>\n",
       "      <th>422</th>\n",
       "      <td>382</td>\n",
       "      <td>KyogrePrimal Kyogre</td>\n",
       "      <td>Water</td>\n",
       "      <td>NaN</td>\n",
       "      <td>100</td>\n",
       "      <td>150</td>\n",
       "      <td>90</td>\n",
       "      <td>180</td>\n",
       "      <td>160</td>\n",
       "      <td>90</td>\n",
       "      <td>770</td>\n",
       "      <td>3</td>\n",
       "      <td>True</td>\n",
       "    </tr>\n",
       "    <tr>\n",
       "      <th>424</th>\n",
       "      <td>383</td>\n",
       "      <td>GroudonPrimal Groudon</td>\n",
       "      <td>Ground</td>\n",
       "      <td>Fire</td>\n",
       "      <td>100</td>\n",
       "      <td>180</td>\n",
       "      <td>160</td>\n",
       "      <td>150</td>\n",
       "      <td>90</td>\n",
       "      <td>90</td>\n",
       "      <td>770</td>\n",
       "      <td>3</td>\n",
       "      <td>True</td>\n",
       "    </tr>\n",
       "    <tr>\n",
       "      <th>552</th>\n",
       "      <td>493</td>\n",
       "      <td>Arceus</td>\n",
       "      <td>Normal</td>\n",
       "      <td>NaN</td>\n",
       "      <td>120</td>\n",
       "      <td>120</td>\n",
       "      <td>120</td>\n",
       "      <td>120</td>\n",
       "      <td>120</td>\n",
       "      <td>120</td>\n",
       "      <td>720</td>\n",
       "      <td>4</td>\n",
       "      <td>True</td>\n",
       "    </tr>\n",
       "    <tr>\n",
       "      <th>712</th>\n",
       "      <td>646</td>\n",
       "      <td>KyuremWhite Kyurem</td>\n",
       "      <td>Dragon</td>\n",
       "      <td>Ice</td>\n",
       "      <td>125</td>\n",
       "      <td>120</td>\n",
       "      <td>90</td>\n",
       "      <td>170</td>\n",
       "      <td>100</td>\n",
       "      <td>95</td>\n",
       "      <td>700</td>\n",
       "      <td>5</td>\n",
       "      <td>True</td>\n",
       "    </tr>\n",
       "    <tr>\n",
       "      <th>711</th>\n",
       "      <td>646</td>\n",
       "      <td>KyuremBlack Kyurem</td>\n",
       "      <td>Dragon</td>\n",
       "      <td>Ice</td>\n",
       "      <td>125</td>\n",
       "      <td>170</td>\n",
       "      <td>100</td>\n",
       "      <td>120</td>\n",
       "      <td>90</td>\n",
       "      <td>95</td>\n",
       "      <td>700</td>\n",
       "      <td>5</td>\n",
       "      <td>True</td>\n",
       "    </tr>\n",
       "    <tr>\n",
       "      <th>409</th>\n",
       "      <td>373</td>\n",
       "      <td>SalamenceMega Salamence</td>\n",
       "      <td>Dragon</td>\n",
       "      <td>Flying</td>\n",
       "      <td>95</td>\n",
       "      <td>145</td>\n",
       "      <td>130</td>\n",
       "      <td>120</td>\n",
       "      <td>90</td>\n",
       "      <td>120</td>\n",
       "      <td>700</td>\n",
       "      <td>3</td>\n",
       "      <td>False</td>\n",
       "    </tr>\n",
       "    <tr>\n",
       "      <th>413</th>\n",
       "      <td>376</td>\n",
       "      <td>MetagrossMega Metagross</td>\n",
       "      <td>Steel</td>\n",
       "      <td>Psychic</td>\n",
       "      <td>80</td>\n",
       "      <td>145</td>\n",
       "      <td>150</td>\n",
       "      <td>105</td>\n",
       "      <td>110</td>\n",
       "      <td>110</td>\n",
       "      <td>700</td>\n",
       "      <td>3</td>\n",
       "      <td>False</td>\n",
       "    </tr>\n",
       "    <tr>\n",
       "      <th>418</th>\n",
       "      <td>380</td>\n",
       "      <td>LatiasMega Latias</td>\n",
       "      <td>Dragon</td>\n",
       "      <td>Psychic</td>\n",
       "      <td>80</td>\n",
       "      <td>100</td>\n",
       "      <td>120</td>\n",
       "      <td>140</td>\n",
       "      <td>150</td>\n",
       "      <td>110</td>\n",
       "      <td>700</td>\n",
       "      <td>3</td>\n",
       "      <td>True</td>\n",
       "    </tr>\n",
       "    <tr>\n",
       "      <th>420</th>\n",
       "      <td>381</td>\n",
       "      <td>LatiosMega Latios</td>\n",
       "      <td>Dragon</td>\n",
       "      <td>Psychic</td>\n",
       "      <td>80</td>\n",
       "      <td>130</td>\n",
       "      <td>100</td>\n",
       "      <td>160</td>\n",
       "      <td>120</td>\n",
       "      <td>110</td>\n",
       "      <td>700</td>\n",
       "      <td>3</td>\n",
       "      <td>True</td>\n",
       "    </tr>\n",
       "    <tr>\n",
       "      <th>494</th>\n",
       "      <td>445</td>\n",
       "      <td>GarchompMega Garchomp</td>\n",
       "      <td>Dragon</td>\n",
       "      <td>Ground</td>\n",
       "      <td>108</td>\n",
       "      <td>170</td>\n",
       "      <td>115</td>\n",
       "      <td>120</td>\n",
       "      <td>95</td>\n",
       "      <td>92</td>\n",
       "      <td>700</td>\n",
       "      <td>4</td>\n",
       "      <td>False</td>\n",
       "    </tr>\n",
       "    <tr>\n",
       "      <th>268</th>\n",
       "      <td>248</td>\n",
       "      <td>TyranitarMega Tyranitar</td>\n",
       "      <td>Rock</td>\n",
       "      <td>Dark</td>\n",
       "      <td>100</td>\n",
       "      <td>164</td>\n",
       "      <td>150</td>\n",
       "      <td>95</td>\n",
       "      <td>120</td>\n",
       "      <td>71</td>\n",
       "      <td>700</td>\n",
       "      <td>2</td>\n",
       "      <td>False</td>\n",
       "    </tr>\n",
       "    <tr>\n",
       "      <th>796</th>\n",
       "      <td>719</td>\n",
       "      <td>DiancieMega Diancie</td>\n",
       "      <td>Rock</td>\n",
       "      <td>Fairy</td>\n",
       "      <td>50</td>\n",
       "      <td>160</td>\n",
       "      <td>110</td>\n",
       "      <td>160</td>\n",
       "      <td>110</td>\n",
       "      <td>110</td>\n",
       "      <td>700</td>\n",
       "      <td>6</td>\n",
       "      <td>True</td>\n",
       "    </tr>\n",
       "    <tr>\n",
       "      <th>425</th>\n",
       "      <td>384</td>\n",
       "      <td>Rayquaza</td>\n",
       "      <td>Dragon</td>\n",
       "      <td>Flying</td>\n",
       "      <td>105</td>\n",
       "      <td>150</td>\n",
       "      <td>90</td>\n",
       "      <td>150</td>\n",
       "      <td>90</td>\n",
       "      <td>95</td>\n",
       "      <td>680</td>\n",
       "      <td>3</td>\n",
       "      <td>True</td>\n",
       "    </tr>\n",
       "    <tr>\n",
       "      <th>545</th>\n",
       "      <td>487</td>\n",
       "      <td>GiratinaOrigin Forme</td>\n",
       "      <td>Ghost</td>\n",
       "      <td>Dragon</td>\n",
       "      <td>150</td>\n",
       "      <td>120</td>\n",
       "      <td>100</td>\n",
       "      <td>120</td>\n",
       "      <td>100</td>\n",
       "      <td>90</td>\n",
       "      <td>680</td>\n",
       "      <td>4</td>\n",
       "      <td>True</td>\n",
       "    </tr>\n",
       "    <tr>\n",
       "      <th>544</th>\n",
       "      <td>487</td>\n",
       "      <td>GiratinaAltered Forme</td>\n",
       "      <td>Ghost</td>\n",
       "      <td>Dragon</td>\n",
       "      <td>150</td>\n",
       "      <td>100</td>\n",
       "      <td>120</td>\n",
       "      <td>100</td>\n",
       "      <td>120</td>\n",
       "      <td>90</td>\n",
       "      <td>680</td>\n",
       "      <td>4</td>\n",
       "      <td>True</td>\n",
       "    </tr>\n",
       "    <tr>\n",
       "      <th>707</th>\n",
       "      <td>644</td>\n",
       "      <td>Zekrom</td>\n",
       "      <td>Dragon</td>\n",
       "      <td>Electric</td>\n",
       "      <td>100</td>\n",
       "      <td>150</td>\n",
       "      <td>120</td>\n",
       "      <td>120</td>\n",
       "      <td>100</td>\n",
       "      <td>90</td>\n",
       "      <td>680</td>\n",
       "      <td>5</td>\n",
       "      <td>True</td>\n",
       "    </tr>\n",
       "    <tr>\n",
       "      <th>541</th>\n",
       "      <td>484</td>\n",
       "      <td>Palkia</td>\n",
       "      <td>Water</td>\n",
       "      <td>Dragon</td>\n",
       "      <td>90</td>\n",
       "      <td>120</td>\n",
       "      <td>100</td>\n",
       "      <td>150</td>\n",
       "      <td>120</td>\n",
       "      <td>100</td>\n",
       "      <td>680</td>\n",
       "      <td>4</td>\n",
       "      <td>True</td>\n",
       "    </tr>\n",
       "  </tbody>\n",
       "</table>\n",
       "</div>"
      ],
      "text/plain": [
       "       #                     Name   Type 1    Type 2   HP  Attack  Defense  \\\n",
       "426  384    RayquazaMega Rayquaza   Dragon    Flying  105     180      100   \n",
       "164  150      MewtwoMega Mewtwo Y  Psychic       NaN  106     150       70   \n",
       "163  150      MewtwoMega Mewtwo X  Psychic  Fighting  106     190      100   \n",
       "422  382      KyogrePrimal Kyogre    Water       NaN  100     150       90   \n",
       "424  383    GroudonPrimal Groudon   Ground      Fire  100     180      160   \n",
       "552  493                   Arceus   Normal       NaN  120     120      120   \n",
       "712  646       KyuremWhite Kyurem   Dragon       Ice  125     120       90   \n",
       "711  646       KyuremBlack Kyurem   Dragon       Ice  125     170      100   \n",
       "409  373  SalamenceMega Salamence   Dragon    Flying   95     145      130   \n",
       "413  376  MetagrossMega Metagross    Steel   Psychic   80     145      150   \n",
       "418  380        LatiasMega Latias   Dragon   Psychic   80     100      120   \n",
       "420  381        LatiosMega Latios   Dragon   Psychic   80     130      100   \n",
       "494  445    GarchompMega Garchomp   Dragon    Ground  108     170      115   \n",
       "268  248  TyranitarMega Tyranitar     Rock      Dark  100     164      150   \n",
       "796  719      DiancieMega Diancie     Rock     Fairy   50     160      110   \n",
       "425  384                 Rayquaza   Dragon    Flying  105     150       90   \n",
       "545  487     GiratinaOrigin Forme    Ghost    Dragon  150     120      100   \n",
       "544  487    GiratinaAltered Forme    Ghost    Dragon  150     100      120   \n",
       "707  644                   Zekrom   Dragon  Electric  100     150      120   \n",
       "541  484                   Palkia    Water    Dragon   90     120      100   \n",
       "\n",
       "     Sp. Atk  Sp. Def  Speed  Total  Generation  Legendary  \n",
       "426      180      100    115    780           3       True  \n",
       "164      194      120    140    780           1       True  \n",
       "163      154      100    130    780           1       True  \n",
       "422      180      160     90    770           3       True  \n",
       "424      150       90     90    770           3       True  \n",
       "552      120      120    120    720           4       True  \n",
       "712      170      100     95    700           5       True  \n",
       "711      120       90     95    700           5       True  \n",
       "409      120       90    120    700           3      False  \n",
       "413      105      110    110    700           3      False  \n",
       "418      140      150    110    700           3       True  \n",
       "420      160      120    110    700           3       True  \n",
       "494      120       95     92    700           4      False  \n",
       "268       95      120     71    700           2      False  \n",
       "796      160      110    110    700           6       True  \n",
       "425      150       90     95    680           3       True  \n",
       "545      120      100     90    680           4       True  \n",
       "544      100      120     90    680           4       True  \n",
       "707      120      100     90    680           5       True  \n",
       "541      150      120    100    680           4       True  "
      ]
     },
     "execution_count": 56,
     "metadata": {},
     "output_type": "execute_result"
    }
   ],
   "source": [
    "poke_df.sort_values('Total', ascending=False).head(20)"
   ]
  },
  {
   "cell_type": "code",
   "execution_count": 57,
   "id": "1e229e99",
   "metadata": {},
   "outputs": [],
   "source": [
    "import jovian"
   ]
  },
  {
   "cell_type": "code",
   "execution_count": null,
   "id": "f6ff2d7b",
   "metadata": {},
   "outputs": [
    {
     "data": {
      "application/javascript": [
       "window.require && require([\"base/js/namespace\"],function(Jupyter){Jupyter.notebook.save_checkpoint()})"
      ],
      "text/plain": [
       "<IPython.core.display.Javascript object>"
      ]
     },
     "metadata": {},
     "output_type": "display_data"
    }
   ],
   "source": [
    "jovian.commit()"
   ]
  }
 ],
 "metadata": {
  "language_info": {
   "codemirror_mode": {
    "name": "ipython",
    "version": 3
   },
   "file_extension": ".py",
   "mimetype": "text/x-python",
   "name": "python",
   "nbconvert_exporter": "python",
   "pygments_lexer": "ipython3",
   "version": "3.9.7"
  }
 },
 "nbformat": 4,
 "nbformat_minor": 5
}